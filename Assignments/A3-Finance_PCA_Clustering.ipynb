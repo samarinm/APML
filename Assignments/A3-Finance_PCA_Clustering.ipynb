{
 "cells": [
  {
   "attachments": {},
   "cell_type": "markdown",
   "id": "77557723-0da1-442a-bf76-8c1da597bc50",
   "metadata": {},
   "source": [
    "# Assignment 3\n",
    "\n",
    "<br> \n",
    "    <center>\n",
    "        <img src=\"src/A3_Cluster_illustration.png\" width=\"350\"/>\n",
    "    </center>\n",
    "</br>\n",
    "\n",
    "In the third assignment, you can revise dimensionality reduction with **principal component analysis (PCA)** and **k-means clustering**. Here, we focus on two datasets of stock prices. In particular, you will see examples of \n",
    "\n",
    "* when principal components might be useful as new variables for a predictive model,\n",
    "* how to recognise whether principal components carry sufficient information,\n",
    "* and identify clusters of similar assets in the finance example.\n",
    "\n",
    "For this exercise, you can switch back to the environment ```APML``` used during class.\n",
    "\n",
    "Please provide solutions to all exercises below and send me all notebooks by **31st of May 2024**.\n",
    "\n",
    "***\n",
    "\n",
    "## Part I: Portfolio of four industries\n",
    "\n",
    "For the first part, we consider a portfolio of companies belonging to four industries: \n",
    "\n",
    "* automotive (Mercedes-Benz: 'MBG.DE', BMW: 'BMW.DE')\n",
    "* aviation (Lufthansa: 'LHA.DE', Air France-KLM 'AF.PA') \n",
    "* pharmaceuticals (Bayer: 'BAYN.DE', Novartis: 'NVS', Roche: 'RO.SW')\n",
    "* technology (Apple: 'AAPL', Amazon: 'AMZN', Google: 'GOOG')"
   ]
  },
  {
   "cell_type": "code",
   "execution_count": null,
   "id": "c70a9fe2-523a-4202-bb7d-60ea931f7380",
   "metadata": {},
   "outputs": [],
   "source": [
    "portfolio = {\n",
    "    'MBG.DE': 'Mercedes-Benz Group AG',\n",
    "    'BMW.DE': 'Bayerische Motoren Werke AG',\n",
    "    'LHA.DE': 'Deutsche Lufthansa AG',\n",
    "    'AF.PA': 'Air France-KLM',\n",
    "    'BAYN.DE': 'Bayer AG',\n",
    "    'NVS': 'Novartis AG',\n",
    "    'RO.SW': 'Roche Holding AG',\n",
    "    'AAPL': 'Apple Inc.',\n",
    "    'AMZN': 'Amazon.com Inc.',\n",
    "    'GOOG': 'Alphabet Inc.'\n",
    "}"
   ]
  },
  {
   "cell_type": "markdown",
   "id": "93f76e07-f84f-48ce-a3e5-28281cca6e21",
   "metadata": {},
   "source": [
    "Let us first inspect the dataset. Load the data with the following cell:"
   ]
  },
  {
   "cell_type": "code",
   "execution_count": null,
   "id": "870d59fa-03ba-41fd-9028-845b2cfc5f74",
   "metadata": {},
   "outputs": [],
   "source": [
    "import pandas as pd\n",
    "import numpy as np\n",
    "\n",
    "pd.set_option('display.precision', 2)\n",
    "\n",
    "industries_df = pd.read_csv('data/finance_toy_data.csv', index_col='Date')\n",
    "industries_df"
   ]
  },
  {
   "cell_type": "markdown",
   "id": "be0b7eba-00f4-44a4-b547-e3440a6076d6",
   "metadata": {},
   "source": [
    "### Exercise I.1\n",
    "\n",
    "As you can see above, the stock prices vary quite a bit from one company to another.\n",
    "\n",
    "To normalise the values, we use **normalised returns**. To this end, calculate the \n",
    "fractional change from the immediately previous row. For example, the stock price of\n",
    "```MBG.DE``` decreased on ```2016-01-06``` compared to previous day ```2016-01-05``` by\n",
    "\n",
    "$\\frac{49.32 - 50.60}{50.60} = \\frac{-1.28}{50.60} \\approx -0.025296$\n",
    "\n",
    "i.e. by about 2.5296%.\n",
    "\n",
    "* Compute the normalised returns for ```industries_df``` (i.e do a similar computation as above for all rows) and store the result in DataFrame ```norm_returns```.\n",
    "* Drop all rows in ```norm_returns``` where there is at least one ```NaN``` entry\n",
    "* Finally, transpose ```norm_returns``` such that rows represent different companies and columns different dates.\n",
    "\n",
    "Fill in the cell below:"
   ]
  },
  {
   "cell_type": "code",
   "execution_count": null,
   "id": "07134bdf-c998-4463-a4fa-ae940e232574",
   "metadata": {},
   "outputs": [],
   "source": []
  },
  {
   "cell_type": "markdown",
   "id": "1e747c2b-3ce7-40b2-8cf4-157ed76b754e",
   "metadata": {},
   "source": [
    "### Exercise I.2\n",
    "\n",
    "Perform a principal component analysis on ```norm_returns```. Consider \n",
    "only the first two eigenvectors, i.e. use ```num_eigvectors = 2``` in your PCA function call."
   ]
  },
  {
   "cell_type": "code",
   "execution_count": null,
   "id": "30739cf0-c78e-4fc8-820b-e37c5bff6845",
   "metadata": {},
   "outputs": [],
   "source": []
  },
  {
   "cell_type": "markdown",
   "id": "8d7493dd-7d46-4dfb-865f-7093fc0f81a3",
   "metadata": {},
   "source": [
    "### Exercise I.3\n",
    "\n",
    "Can you think of a metric which might give us an idea of how expressive the first principal components are?\n",
    "\n",
    "Fill in the cell below with your choice:"
   ]
  },
  {
   "cell_type": "code",
   "execution_count": null,
   "id": "748a49de-4b80-4458-b3bf-4632d1c62e96",
   "metadata": {},
   "outputs": [],
   "source": []
  },
  {
   "cell_type": "markdown",
   "id": "f24222ba-8a06-49ba-8682-e6fe7b5adf95",
   "metadata": {},
   "source": [
    "### Exercise I.4\n",
    "\n",
    "Visualise the result of your PCA by plotting the first two principal components. \n",
    "Label the individual data points with the abbreviations given in \n",
    "the ```portfolio``` dictionary. Your result should look somewhat similar to the\n",
    "title picture of this notebook above."
   ]
  },
  {
   "cell_type": "code",
   "execution_count": null,
   "id": "0feb6921-d25d-4239-bcf3-92d258e24ff9",
   "metadata": {},
   "outputs": [],
   "source": []
  },
  {
   "cell_type": "markdown",
   "id": "2ac5686b-646c-4af7-8528-e7c9970a0327",
   "metadata": {},
   "source": [
    "### Exercise I.5\n",
    "\n",
    "Perform k-means clustering on your PCA result. Use"
   ]
  },
  {
   "cell_type": "code",
   "execution_count": null,
   "id": "1443be9f-15bc-4ae8-9618-4bd85e9129d0",
   "metadata": {},
   "outputs": [],
   "source": [
    "k=4 \n",
    "random_state=123\n",
    "n_init=100"
   ]
  },
  {
   "cell_type": "markdown",
   "id": "4b9d9479-65aa-40a7-92c3-29cc6a88a924",
   "metadata": {},
   "source": [
    "in your k-means clustering function."
   ]
  },
  {
   "cell_type": "code",
   "execution_count": null,
   "id": "46579547-aff9-4627-bf3f-2ccde7c28496",
   "metadata": {},
   "outputs": [],
   "source": []
  },
  {
   "cell_type": "markdown",
   "id": "f2cdca90-fdf1-4884-821f-02921a4b9d7f",
   "metadata": {},
   "source": [
    "### Exercise I.6\n",
    "\n",
    "Visualise your result by plotting a similar figure as in Exercise I.4, \n",
    "but this time colour the data points by their cluster. Your result should \n",
    "resemble the title picture of this notebook above."
   ]
  },
  {
   "cell_type": "code",
   "execution_count": null,
   "id": "704da32c-17d2-46e8-aa48-5d75e6c664eb",
   "metadata": {},
   "outputs": [],
   "source": []
  },
  {
   "cell_type": "markdown",
   "id": "0caed951-96d4-4a8f-957e-564c5327c646",
   "metadata": {},
   "source": [
    "In addition, print the cluster number (0 to 3) and the stocks which belong to each cluster number.\n",
    "\n",
    "Fill in the cell below:"
   ]
  },
  {
   "cell_type": "code",
   "execution_count": null,
   "id": "ad7c9954-58e5-49b2-be3a-599e159cb1e7",
   "metadata": {},
   "outputs": [],
   "source": []
  },
  {
   "cell_type": "markdown",
   "id": "a5f91d72-60ab-49fd-9714-81970e173088",
   "metadata": {},
   "source": [
    "### Exercise I.7\n",
    "\n",
    "**You do not need to write or execute anything in this exercise.**\n",
    "\n",
    "Reflect on the following questions:\n",
    "\n",
    "* Were you able to identify clusters which correspond to the four industries?\n",
    "* If you were or were not, why is that the case? Take your result on the expressivity (Exercise I.3) into consideration.\n",
    "* Finally, do you consider the simplification to two principal components useful for this dataset?"
   ]
  },
  {
   "cell_type": "markdown",
   "id": "44de016c-9f76-4098-9a45-b4412705d0f4",
   "metadata": {},
   "source": [
    "***\n",
    "\n",
    "## Part II: Portfolio of DAX companies\n",
    "\n",
    "In the first part, we focused on handpicked companies in four distinct industries. \n",
    "In the second part, we consider a broader scope but essentially perform the same steps. \n",
    "\n",
    "Here, we work with the German stock market index DAX, which includes the 40 biggest German companies. \n",
    "Below, we focus on the following 27 DAX companies:"
   ]
  },
  {
   "cell_type": "code",
   "execution_count": null,
   "id": "c214cc83-df50-4f1a-a962-3ffeed15eb84",
   "metadata": {},
   "outputs": [],
   "source": [
    "portfolio = {\n",
    "    'ADS.DE': 'Adidas AG',\n",
    "    'ALV.DE': 'Allianz SE',\n",
    "    'BAS.DE': 'BASF SE',\n",
    "    'BAYN.DE': 'Bayer AG',\n",
    "    'BEI.DE': 'Beiersdorf AG',\n",
    "    'BMW.DE': 'Bayerische Motoren Werke AG',\n",
    "    'CON.DE': 'Continental AG',\n",
    "    'DB1.DE': 'Deutsche Boerse AG',\n",
    "    'DBK.DE': 'Deutsche Bank AG',\n",
    "    'DHER.DE': 'Delivery Hero SE',\n",
    "    'DPW.DE': 'Deutsche Post AG',\n",
    "    'DTE.DE': 'Deutsche Telekom AG',\n",
    "    'DWNI.DE': 'Deutsche Wohnen SE',\n",
    "    'EOAN.DE': 'E.ON SE',\n",
    "    'FME.DE': 'Fresenius Medical Care AG & Co. KGaA',\n",
    "    'FRE.DE': 'Fresenius SE & Co. KGaA',\n",
    "    'HEI.DE': 'HeidelbergCement AG',\n",
    "    'HEN3.DE': 'Henkel AG & Co. KGaA',\n",
    "    'IFX.DE': 'Infineon Technologies AG',\n",
    "    'LHA.DE': 'Deutsche Lufthansa AG',\n",
    "    'MRK.DE': 'Merck KGaA',\n",
    "    'MUV2.DE': 'Muenchener Rückversicherungs-Gesellschaft AG',\n",
    "    'RWE.DE': 'RWE AG',\n",
    "    'SAP.DE': 'SAP SE',\n",
    "    'SIE.DE': 'Siemens AG',\n",
    "    'TKA.DE': 'thyssenkrupp AG',\n",
    "    'VOW3.DE': 'Volkswagen AG'\n",
    "}"
   ]
  },
  {
   "cell_type": "markdown",
   "id": "bf6ecf35-6638-4463-841f-71d647671f21",
   "metadata": {},
   "source": [
    "Load the dataset in the following cell:"
   ]
  },
  {
   "cell_type": "code",
   "execution_count": null,
   "id": "774c9fde-70ed-4c9c-8612-5a49c0ce3cca",
   "metadata": {},
   "outputs": [],
   "source": [
    "import pandas as pd\n",
    "import numpy as np\n",
    "\n",
    "pd.set_option('display.precision', 2)\n",
    "\n",
    "dax_df = pd.read_csv('data/finance_dax_data.csv', index_col='Date')\n",
    "dax_df"
   ]
  },
  {
   "cell_type": "markdown",
   "id": "01cb8e5f-5973-46f0-b8d0-1dfcfa766e47",
   "metadata": {},
   "source": [
    "### Exercise II.1\n",
    "\n",
    "As before, perform the following preparation of the dataset:\n",
    "\n",
    "* Compute the normalised returns for ```dax_df``` and store the result in DataFrame ```norm_returns```.\n",
    "* Drop all rows in ```norm_returns``` where there is at least one ```NaN``` entry\n",
    "* Finally, transpose ```norm_returns``` such that rows represent different companies and columns different dates.\n",
    "\n",
    "Fill in the cell below:"
   ]
  },
  {
   "cell_type": "code",
   "execution_count": null,
   "id": "260a6993-d6f9-4777-8b64-3bed799e2b02",
   "metadata": {},
   "outputs": [],
   "source": []
  },
  {
   "cell_type": "markdown",
   "id": "a3713d06-ce7d-40e7-8fc0-c3799a675ce2",
   "metadata": {},
   "source": [
    "### Exercise II.2\n",
    "\n",
    "Perform a principal component analysis on ```norm_returns```. Consider \n",
    "only the first two eigenvectors, i.e. use ```num_eigvectors = 2``` in your PCA function call."
   ]
  },
  {
   "cell_type": "code",
   "execution_count": null,
   "id": "8d5c1126-daf6-481d-82ec-bf84472b346c",
   "metadata": {},
   "outputs": [],
   "source": []
  },
  {
   "cell_type": "markdown",
   "id": "754f5bf6-4425-4249-8798-c18c3d8606dc",
   "metadata": {},
   "source": [
    "### Exercise II.3\n",
    "\n",
    "In Exercise I.3 you have chosen a metric for the expressivity of the first principal components.\n",
    "\n",
    "Fill in the cell below with your choice for the DAX example:"
   ]
  },
  {
   "cell_type": "code",
   "execution_count": null,
   "id": "6f78f01d-9411-4dbc-a6e3-7eff507396ea",
   "metadata": {},
   "outputs": [],
   "source": []
  },
  {
   "cell_type": "markdown",
   "id": "b46007ff-8f9a-4a8a-9b32-e096e75015d9",
   "metadata": {},
   "source": [
    "### Exercise II.4\n",
    "\n",
    "Visualise the result of your PCA by plotting the first two principal components. \n",
    "Label the individual data points with the abbreviations given in \n",
    "the ```portfolio``` dictionary. "
   ]
  },
  {
   "cell_type": "code",
   "execution_count": null,
   "id": "b4ac61c4-3b0b-4d98-8e30-59cc214fec6d",
   "metadata": {},
   "outputs": [],
   "source": []
  },
  {
   "cell_type": "markdown",
   "id": "f1161632-3afc-4b5d-a879-54a62ea5ef8d",
   "metadata": {},
   "source": [
    "### Exercise II.5\n",
    "\n",
    "Let us make a simplifying assumption and consider \n",
    "that the DAX consist of the following seven industry sectors:\n",
    "\n",
    "* commerce\n",
    "* aviation and automotive\n",
    "* bank and insurance\n",
    "* chemicals and pharmaceuticals\n",
    "* software and communication\n",
    "* energy and construction\n",
    "* technology and medicine\n",
    " \n",
    "Perform k-means clustering on your PCA result. Under this assumption, use"
   ]
  },
  {
   "cell_type": "code",
   "execution_count": null,
   "id": "61f96019-e956-4460-a526-9fe6efb0d15b",
   "metadata": {},
   "outputs": [],
   "source": [
    "k=7\n",
    "random_state=123\n",
    "n_init=100"
   ]
  },
  {
   "cell_type": "markdown",
   "id": "4bc54ddf-3e16-4cb0-9d4e-dadb367b6405",
   "metadata": {},
   "source": [
    "in your k-means clustering function."
   ]
  },
  {
   "cell_type": "code",
   "execution_count": null,
   "id": "101a8097-b64d-44ce-9aef-ff361d214df1",
   "metadata": {},
   "outputs": [],
   "source": []
  },
  {
   "cell_type": "markdown",
   "id": "21a9f0f6-63ec-426a-b329-6ef36d94240b",
   "metadata": {},
   "source": [
    "### Exercise II.6\n",
    "\n",
    "Visualise your result by plotting a similar figure as in Exercise I.6. \n",
    "Colour the data points by their cluster."
   ]
  },
  {
   "cell_type": "code",
   "execution_count": null,
   "id": "3a77cadd-aa51-4a7f-aef1-3a2fbb876a07",
   "metadata": {},
   "outputs": [],
   "source": []
  },
  {
   "cell_type": "markdown",
   "id": "4487fa05-31aa-4a1a-bdad-96d85ccc27b7",
   "metadata": {},
   "source": [
    "As before, print the cluster number (0 to 6) and the stocks which belong to each cluster number.\n",
    "\n",
    "Fill in the cell below:"
   ]
  },
  {
   "cell_type": "code",
   "execution_count": null,
   "id": "ba2c1f4c-1907-44e9-b0fa-6e9074b805ea",
   "metadata": {},
   "outputs": [],
   "source": []
  },
  {
   "cell_type": "markdown",
   "id": "07648b49-7f30-4b54-a89e-2d888786e489",
   "metadata": {},
   "source": [
    "### Exercise II.7\n",
    "\n",
    "**You do not need to write or execute anything in this exercise.**\n",
    "\n",
    "As before, reflect on the following questions:\n",
    "\n",
    "* Were you able to identify useful clusters?\n",
    "* If you were or were not, why is that the case? Take your result on the expressivity (Exercise II.3) into consideration.\n",
    "* Do you consider the simplification to two principal components useful for this second dataset, too?"
   ]
  }
 ],
 "metadata": {
  "kernelspec": {
   "display_name": "Python 3 (ipykernel)",
   "language": "python",
   "name": "python3"
  },
  "language_info": {
   "codemirror_mode": {
    "name": "ipython",
    "version": 3
   },
   "file_extension": ".py",
   "mimetype": "text/x-python",
   "name": "python",
   "nbconvert_exporter": "python",
   "pygments_lexer": "ipython3",
   "version": "3.11.5"
  }
 },
 "nbformat": 4,
 "nbformat_minor": 5
}
