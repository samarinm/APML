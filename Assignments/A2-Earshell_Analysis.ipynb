{
 "cells": [
  {
   "cell_type": "markdown",
   "id": "596a7a18-a256-4c07-9afa-2aea6ba59acc",
   "metadata": {},
   "source": [
    "# Assignment 2\n",
    "\n",
    "<br> \n",
    "    <p style=\"text-align:center;\"><img src=\"https://upload.wikimedia.org/wikipedia/commons/0/0b/AbaloneInside.jpg\" width=\"400\"></p>\n",
    "</br>\n",
    "\n",
    "In the second assignment, you can revise **regression techniques** and your **Pandas skills**. \n",
    "For this, we consider a dataset of [ear shells](https://en.wikipedia.org/wiki/Abalone) as depicted above. You have encountered the first 23 entries of this dataset in the first assignment. With this notebook you can work on\n",
    "\n",
    "* making proficient use of **Pandas** functions,\n",
    "* **ridge regression**,\n",
    "* regression with **decision trees**,\n",
    "* and **random forest** regression.\n",
    "\n",
    "For this exercise, you can switch back to the environment ```APML``` used during class.\n",
    "\n",
    "Please provide solutions to all exercises below and send me all notebooks by **31st of May 2024**.\n",
    "\n",
    "***\n",
    "\n",
    "## Part I: Dataset overview\n",
    "\n",
    "Let us first inspect the dataset. Load the data with the following cells."
   ]
  },
  {
   "cell_type": "code",
   "execution_count": null,
   "id": "45fa276d-eebc-462e-89d0-039d93dc71fd",
   "metadata": {
    "tags": []
   },
   "outputs": [],
   "source": [
    "import pandas as pd\n",
    "import numpy as np\n",
    "\n",
    "shell_data = pd.read_csv('data/shells.csv', sep=',')"
   ]
  },
  {
   "cell_type": "code",
   "execution_count": null,
   "id": "4ec8f1bd-0ad4-4f4c-8210-29c28a89562f",
   "metadata": {
    "tags": []
   },
   "outputs": [],
   "source": [
    "shell_data.head(5)"
   ]
  },
  {
   "cell_type": "code",
   "execution_count": null,
   "id": "6361ea0b-42a6-49f4-8010-71b9a833154e",
   "metadata": {
    "tags": []
   },
   "outputs": [],
   "source": [
    "shell_data.info()"
   ]
  },
  {
   "cell_type": "markdown",
   "id": "bb430e3c-1ac9-47e1-b15c-2130ac53097c",
   "metadata": {},
   "source": [
    "### Exercise I.1\n",
    "\n",
    "As we want to employ regression techniques, encode the entries in \n",
    "```sex``` column with numerical values like\n",
    "* ```0.0```, ```0.5```, and ```1.0``` instead of\n",
    "* ```'M'```, ```'I'```, and ```'F'```.\n",
    "\n",
    "Fill in the cell below:"
   ]
  },
  {
   "cell_type": "code",
   "execution_count": null,
   "id": "85ee2969-5d2e-4e42-b131-0b119fb24475",
   "metadata": {},
   "outputs": [],
   "source": []
  },
  {
   "cell_type": "markdown",
   "id": "43e3b7b7-f42f-44a7-b5d4-cfe320f321ce",
   "metadata": {},
   "source": [
    "If you were successful, the following cell should execute without an error:"
   ]
  },
  {
   "cell_type": "code",
   "execution_count": null,
   "id": "c1e8bfbe-c4f6-4e93-a720-4ccde5b1a842",
   "metadata": {},
   "outputs": [],
   "source": [
    "shell_data['sex'] = shell_data['sex'].astype(float)\n",
    "print(shell_data['sex'])"
   ]
  },
  {
   "cell_type": "markdown",
   "id": "7a3ecfb1-7e87-4c49-8c13-234cf57a913e",
   "metadata": {},
   "source": [
    "### Exercise I.2\n",
    "\n",
    "Now, obtain the following statistics for the columns containing numerical values:\n",
    "\n",
    "* count of non-NaN entries\n",
    "* mean\n",
    "* standard deviation\n",
    "* minimum value\n",
    "* 25% quantile\n",
    "* 50% quantile (i.e. the median)\n",
    "* 75% qunatile\n",
    "* maximum value"
   ]
  },
  {
   "cell_type": "code",
   "execution_count": null,
   "id": "bba20b47-947c-4431-9925-f0e95c034c3a",
   "metadata": {},
   "outputs": [],
   "source": []
  },
  {
   "cell_type": "markdown",
   "id": "b8b2e3d3-260a-4cd1-98c9-9767d4cb9b49",
   "metadata": {},
   "source": [
    "### Exercise I.3\n",
    "\n",
    "From the information above, you can already deduce that there are some **missing \n",
    "values**. \n",
    "\n",
    "1. Obtain the sub-table containing missing values.\n",
    "2. From this, store the row indices with missing values in ```row_indices_nans```. We will make use of this later on.\n",
    "\n",
    "Hints: Your solution could include the following parts\n",
    "\n",
    "*  ```np.any()```\n",
    "*  ```.isna()```\n",
    "*  ```.index```\n",
    "\n",
    "Note that your own solution might not require all of these."
   ]
  },
  {
   "cell_type": "code",
   "execution_count": null,
   "id": "9ca8fdac-9349-499f-aa9b-bdf0bc2e7708",
   "metadata": {},
   "outputs": [],
   "source": []
  },
  {
   "cell_type": "code",
   "execution_count": null,
   "id": "853a4cb3-bc2f-482d-8682-0f5f2ad7288f",
   "metadata": {},
   "outputs": [],
   "source": [
    "print(row_indices_nans)"
   ]
  },
  {
   "cell_type": "markdown",
   "id": "b1386869-6da9-4acd-8d10-c3449a035ea2",
   "metadata": {},
   "source": [
    "### Exercise I.4\n",
    "\n",
    "Missing entries can pose a problem in your analysis when fitting, e.g., a regression model \n",
    "that expects a value for each property / column you provide. Thus, the first step in any analysis \n",
    "should be to treat these missing values. There are different ways to perform **imputation** of missing values.\n",
    "\n",
    "In this exercise, set a column's **mean value** as the value for the missing entries in that column.\n",
    "\n",
    "Hints: Your solution could include the following parts\n",
    "\n",
    "* ```.isna()```\n",
    "*  ```df.loc[row_index, column_name]```\n",
    "  \n",
    "Note that your own solution might not require all of these."
   ]
  },
  {
   "cell_type": "code",
   "execution_count": null,
   "id": "3f15e093-4219-45df-b61d-05a164db7e80",
   "metadata": {},
   "outputs": [],
   "source": []
  },
  {
   "cell_type": "markdown",
   "id": "5724808a-e7a6-42dc-9203-d806a0d7f993",
   "metadata": {},
   "source": [
    "If you were successful, the following should not include missing values anymore:"
   ]
  },
  {
   "cell_type": "code",
   "execution_count": null,
   "id": "02275365-0376-4c7a-8775-fc44c2892e9a",
   "metadata": {},
   "outputs": [],
   "source": [
    "shell_data.loc[row_indices_nans]"
   ]
  },
  {
   "cell_type": "markdown",
   "id": "74376757-1471-4420-9d75-87f3dcf4a879",
   "metadata": {},
   "source": [
    "### Exercise I.5\n",
    "\n",
    "In the following, we will try to predict the price of ear shells based on the different properties \n",
    "(which we will refer to as **features** in the following).\n",
    "\n",
    "A first, simple metric is the (linear) **correlation** between the different features / columns of our dataset.\n",
    "\n",
    "Obtain the **correlation matrix** for the numeric columns of ```shell_data```. Which features of ear shells \n",
    "correlate more strongly with the price?"
   ]
  },
  {
   "cell_type": "code",
   "execution_count": null,
   "id": "1858e155-d02c-40e2-ae1e-23522567f6b0",
   "metadata": {},
   "outputs": [],
   "source": []
  },
  {
   "cell_type": "markdown",
   "id": "5fa672f5-1f74-440f-80d7-c8298b551522",
   "metadata": {},
   "source": [
    "Note the top-3 features according to correlation matrix:\n",
    "1. .\n",
    "2. .\n",
    "3. ."
   ]
  },
  {
   "cell_type": "markdown",
   "id": "d7c200da-779d-40c8-ac24-f282a2f0a279",
   "metadata": {
    "tags": []
   },
   "source": [
    "***\n",
    "\n",
    "## Part II: Ridge Regression\n",
    "\n",
    "Before we start fitting different regression methods, let us first separate the \n",
    "```shell_data``` into four parts:\n",
    "\n",
    "* ```shell_features_train```: The features we want to fit our models with. This table should not include the target ```'price'```.\n",
    "* ```shell_targets_train```: The target ```'price'``` values we want to use to fit our models.\n",
    "* ```shell_features_test```: The features we want to **test** our models on. This table should not include the target ```'price'```.\n",
    "* ```shell_targets_test```: The **test prediction** target ```'price'``` values. "
   ]
  },
  {
   "cell_type": "code",
   "execution_count": null,
   "id": "ad89b6e7-39e0-420b-a211-ec53d602c7cf",
   "metadata": {},
   "outputs": [],
   "source": [
    "shell_features_train = shell_data[shell_data['subset']=='train'].copy()\n",
    "shell_features_test = shell_data[shell_data['subset']=='test'].copy()\n",
    "\n",
    "shell_targets_train = shell_features_train['price'].copy()\n",
    "shell_targets_test = shell_features_test['price'].copy()\n",
    "\n",
    "shell_features_train = shell_features_train.drop(['subset','price'], axis=1)\n",
    "shell_features_test = shell_features_test.drop(['subset','price'], axis=1)\n",
    "\n",
    "shell_targets_test = shell_targets_test.to_frame()\n",
    "\n",
    "print(f\"Shapes of\\n\"\n",
    "      f\"shell_features_train:\\t {shell_features_train.shape}\\n\"\n",
    "      f\"shell_features_test:\\t {shell_features_test.shape}\\n\"\n",
    "      f\"shell_targets_train:\\t {shell_targets_train.shape}\\n\"\n",
    "      f\"shell_targets_test:\\t {shell_targets_test.shape}\\n\"\n",
    ")"
   ]
  },
  {
   "cell_type": "markdown",
   "id": "6ca5b9da-f4ab-407b-9a5e-4667fcaa8c13",
   "metadata": {
    "tags": []
   },
   "source": [
    "### Exercise II.1 \n",
    "\n",
    "Implement a **ridge regression** approach to predict the ```'price'``` for the test set ```shell_features_test```.\n",
    "Append the predicted prices to the ```shell_targets_test``` of true prices as an additional column."
   ]
  },
  {
   "cell_type": "code",
   "execution_count": null,
   "id": "e4c2a708-a63b-42e6-86fa-89d11d19a8f0",
   "metadata": {
    "scrolled": true
   },
   "outputs": [],
   "source": []
  },
  {
   "cell_type": "code",
   "execution_count": null,
   "id": "82b24a99-da9e-4ed1-8d8d-eaf2adf4f92f",
   "metadata": {},
   "outputs": [],
   "source": [
    "shell_targets_test"
   ]
  },
  {
   "cell_type": "markdown",
   "id": "128e9044-6b34-4c6f-ba4d-1be9357bc4bd",
   "metadata": {},
   "source": [
    "### Exercise II.2\n",
    "\n",
    "Can you think of a way to identify which features were more relevant in the ridge regression?\n",
    "\n",
    "Fill in the cell below with your idea:"
   ]
  },
  {
   "cell_type": "code",
   "execution_count": null,
   "id": "5a63bb00-95eb-4272-bc44-7ee14223c06c",
   "metadata": {},
   "outputs": [],
   "source": []
  },
  {
   "cell_type": "markdown",
   "id": "6ac3e264-bb43-49d4-bfa0-e61fef5d9d26",
   "metadata": {},
   "source": [
    "Note the top-3 features according to the ridge regression:\n",
    "1. .\n",
    "2. .\n",
    "3. ."
   ]
  },
  {
   "cell_type": "markdown",
   "id": "5a3a5fdf-c227-4955-88e0-88c9d54a9b14",
   "metadata": {
    "tags": []
   },
   "source": [
    "***\n",
    "\n",
    "## Part III: Decision Tree\n",
    "\n",
    "### Exercise III.1\n",
    "\n",
    "Implement a **decision tree** approach to predict the ```'price'``` for the test set ```shell_features_test```.\n",
    "Append the predicted prices to the ```shell_targets_test``` of true prices as an additional column.\n",
    "\n",
    "Use"
   ]
  },
  {
   "cell_type": "code",
   "execution_count": null,
   "id": "4f0724e8-d7bc-4e16-a972-ed3c999744fd",
   "metadata": {},
   "outputs": [],
   "source": [
    "tree_height = 5\n",
    "random_state = 123"
   ]
  },
  {
   "cell_type": "markdown",
   "id": "e53c32c6-812c-4010-8370-90b699ba186d",
   "metadata": {},
   "source": [
    "as the ```max_depth``` and ```random_state``` in the definition of your decision tree.\n",
    "\n",
    "Fill in the cell below:"
   ]
  },
  {
   "cell_type": "code",
   "execution_count": null,
   "id": "4d73cecf-2cb4-4c99-93a7-a550a358b4bb",
   "metadata": {},
   "outputs": [],
   "source": []
  },
  {
   "cell_type": "markdown",
   "id": "d95110ce-f135-4409-8cde-1136199dc607",
   "metadata": {},
   "source": [
    "Visualise the fitted tree below:"
   ]
  },
  {
   "cell_type": "code",
   "execution_count": null,
   "id": "923ed5c6-1868-47c3-84b8-1e066b7290fa",
   "metadata": {},
   "outputs": [],
   "source": []
  },
  {
   "cell_type": "markdown",
   "id": "8a8d1adc-b6a5-464f-9243-eb06e1898fe6",
   "metadata": {},
   "source": [
    "### Exercise III.2\n",
    "\n",
    "Can you think of a way to identify which features were more relevant for the decision tree decision?\n",
    "\n",
    "Fill in the cell below with your idea:"
   ]
  },
  {
   "cell_type": "code",
   "execution_count": null,
   "id": "818064e9-9bde-41d0-b493-3de14c8f1a07",
   "metadata": {},
   "outputs": [],
   "source": []
  },
  {
   "cell_type": "markdown",
   "id": "6dca3001-b516-4626-a9f1-a3823b200f24",
   "metadata": {},
   "source": [
    "Note the top-3 features according to the decision tree:\n",
    "1. .\n",
    "2. .\n",
    "3. ."
   ]
  },
  {
   "cell_type": "markdown",
   "id": "561b5e0f-3c57-4549-bc94-394b2278de85",
   "metadata": {
    "tags": []
   },
   "source": [
    "***\n",
    "\n",
    "## Part IV: Random Forest\n",
    "\n",
    "### Exercise IV.1\n",
    "\n",
    "Implement a **random forest** approach to predict the ```'price'``` for the test set ```shell_features_test```.\n",
    "Append the predicted prices to the ```shell_targets_test``` of true prices as an additional column.\n",
    "\n",
    "Similar to before, use "
   ]
  },
  {
   "cell_type": "code",
   "execution_count": null,
   "id": "f41c9d12-74f1-4f04-8124-9e10cade01f6",
   "metadata": {},
   "outputs": [],
   "source": [
    "tree_height = 5\n",
    "random_state = 123\n",
    "num_trees = 100"
   ]
  },
  {
   "cell_type": "markdown",
   "id": "f573562c-7b07-4ae2-ab97-b1a04b1cbb2d",
   "metadata": {},
   "source": [
    "as the ```max_depth```, ```random_state```, and additional ```n_estimators``` in the definition of your random forest.\n",
    "\n",
    "Fill in the cell below:"
   ]
  },
  {
   "cell_type": "code",
   "execution_count": null,
   "id": "c0540c58-5698-44bd-a0dc-bb70c0917330",
   "metadata": {},
   "outputs": [],
   "source": []
  },
  {
   "cell_type": "markdown",
   "id": "5a01e2c6-b10c-4b85-9854-5a4ffccbe616",
   "metadata": {},
   "source": [
    "Visualise a randomly selected fitted tree below:"
   ]
  },
  {
   "cell_type": "code",
   "execution_count": null,
   "id": "f1371dc5-8c18-4550-bf49-2e6ce61db5a1",
   "metadata": {
    "scrolled": true
   },
   "outputs": [],
   "source": []
  },
  {
   "cell_type": "markdown",
   "id": "6835f91a-3103-42a2-b829-97cd7b67ccaf",
   "metadata": {},
   "source": [
    "### Exercise IV.2\n",
    "\n",
    "Can you think of a way to identify which features were more relevant for the random forest decision?\n",
    "\n",
    "Fill in the cell below with your idea:"
   ]
  },
  {
   "cell_type": "code",
   "execution_count": null,
   "id": "eec4b467-5eb8-42b8-87f1-7b4cf822bee2",
   "metadata": {},
   "outputs": [],
   "source": []
  },
  {
   "cell_type": "markdown",
   "id": "8099980d-0b6f-4983-aa37-53bdf8e840ae",
   "metadata": {},
   "source": [
    "Note the top-3 features according to the random forest:\n",
    "1. .\n",
    "2. .\n",
    "3. ."
   ]
  },
  {
   "cell_type": "markdown",
   "id": "cc9efff2-438b-40d0-88a7-313eda800d38",
   "metadata": {
    "tags": []
   },
   "source": [
    "***\n",
    "\n",
    "## Part V: Metric to compare methods\n",
    "\n",
    "Which method performed best? Choose a metric which gives you a single number for the performance of each method on \n",
    "the test set ```shell_features_test```, i.e. compare ```shell_targets_test``` to the predictions.\n",
    "\n",
    "By now, you should have collected all prediction results in the following table:"
   ]
  },
  {
   "cell_type": "code",
   "execution_count": null,
   "id": "243a132c-02dc-4bac-a345-2582922bd478",
   "metadata": {},
   "outputs": [],
   "source": [
    "shell_targets_test"
   ]
  },
  {
   "cell_type": "markdown",
   "id": "6c77a34e-a6c9-4a30-a84f-f878d62cda86",
   "metadata": {},
   "source": [
    "Fill in the cell below with your metric:"
   ]
  },
  {
   "cell_type": "code",
   "execution_count": null,
   "id": "d6eeb9ac-97f9-4f63-9366-573b39231045",
   "metadata": {},
   "outputs": [],
   "source": []
  },
  {
   "cell_type": "markdown",
   "id": "6124164f-0a6b-4b96-a4fd-6b751927b5bc",
   "metadata": {
    "tags": []
   },
   "source": [
    "***\n",
    "\n",
    "## Part VI: Missing values revisited\n",
    "\n",
    "In the previous parts, we have devised different methods to predict the price given the features of ear shells.\n",
    "With this, we have another option for imputation of missing values: We can predict the missing prices based on the features.\n",
    "\n",
    "We reuse ```row_indices_nans``` from Exercise I.3 to define the rows for which we want to predict a better\n",
    "value than just the mean price."
   ]
  },
  {
   "cell_type": "code",
   "execution_count": null,
   "id": "02018ee8-15fe-4e77-aa50-5547b0acee20",
   "metadata": {},
   "outputs": [],
   "source": [
    "imputation_subset =  shell_data.loc[row_indices_nans].copy()\n",
    "imputation_features = imputation_subset.drop(['subset','price'], axis=1)"
   ]
  },
  {
   "cell_type": "code",
   "execution_count": null,
   "id": "3fcd1c9e-91ae-4c87-b2e7-da1998b7941d",
   "metadata": {},
   "outputs": [],
   "source": [
    "imputation_features "
   ]
  },
  {
   "cell_type": "markdown",
   "id": "c9dbf7cc-8304-4d20-a449-6015227f1fec",
   "metadata": {},
   "source": [
    "Now, drop these indices in the training set and test set, i.e. recreate ```shell_features_train```, \n",
    "```shell_targets_train```, ```shell_features_test```, ```shell_targets_test``` similar to the way\n",
    "we have done above, but this time without the rows in ```imputation_features```.\n",
    "\n",
    "Fill in the cell below:"
   ]
  },
  {
   "cell_type": "code",
   "execution_count": null,
   "id": "d64e2a43-6846-4916-a375-b83907da2591",
   "metadata": {},
   "outputs": [],
   "source": []
  },
  {
   "cell_type": "markdown",
   "id": "1fcaf701-15e8-4a58-a683-02be2c921c28",
   "metadata": {},
   "source": [
    "Rerun all cells above from Exercise II.1 on to retrain all methods, but this time we leave out all \n",
    "rows of ```imputation_features```. \n",
    "\n",
    "Finally, predict the results for ```price``` based on ```imputation_features``` with the different methods\n",
    "and see how they differ from the mean value we imputed earlier.\n",
    "\n",
    "Fill in the cell below:"
   ]
  },
  {
   "cell_type": "code",
   "execution_count": null,
   "id": "7a209e98-f988-4f11-a439-956d1a284e18",
   "metadata": {},
   "outputs": [],
   "source": []
  },
  {
   "cell_type": "markdown",
   "id": "0f338522-66c1-4bb4-b253-137bd2befd8f",
   "metadata": {},
   "source": [
    "***\n",
    "\n",
    "## Bonus Part VII: Larger trees\n",
    "\n",
    "#### This last part is not required to complete assignment 2!\n",
    "\n",
    "Above we used ```tree_height = 5```, i.e. up to five splits, to construct the trees. \n",
    "In Part V, you have defined a comparison metric, which should be three numbers for the\n",
    "three regression techniques. Save your previous result by copying the outputs in the cell below:"
   ]
  },
  {
   "cell_type": "code",
   "execution_count": null,
   "id": "3a010e97-a333-4373-936e-4515bc8fbfe2",
   "metadata": {},
   "outputs": [],
   "source": []
  },
  {
   "cell_type": "markdown",
   "id": "7c09b02d-b935-4a56-b4c4-7f2251d0d815",
   "metadata": {},
   "source": [
    "Now, rerun the cells from Part III on, but this time with ```tree_height = 20```.\n",
    "\n",
    "Does increasing the number of splits, in other words making more decisions, always help predict unseen test examples accurately? And if not, why is that not the case?"
   ]
  }
 ],
 "metadata": {
  "kernelspec": {
   "display_name": "Python 3 (ipykernel)",
   "language": "python",
   "name": "python3"
  },
  "language_info": {
   "codemirror_mode": {
    "name": "ipython",
    "version": 3
   },
   "file_extension": ".py",
   "mimetype": "text/x-python",
   "name": "python",
   "nbconvert_exporter": "python",
   "pygments_lexer": "ipython3",
   "version": "3.11.5"
  }
 },
 "nbformat": 4,
 "nbformat_minor": 5
}
