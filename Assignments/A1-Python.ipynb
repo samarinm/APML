{
 "cells": [
  {
   "attachments": {},
   "cell_type": "markdown",
   "id": "25c5fac3-ff96-4bcd-af8b-fce3c01a77d0",
   "metadata": {},
   "source": [
    "# Assignment 1\n",
    "\n",
    "<br> \n",
    "    <center>\n",
    "        <img src=\"src/A1_ViT_illustration.png\" width=\"300\"/>  <img src=\"src/A1_Earshells_illustration.png\" width=\"300\"/>\n",
    "    </center>\n",
    "</br>\n",
    "\n",
    "In the first assignment, you can revise your **general Python skills**. The overall task is to extract information from PDFs in the form of text strings and Pandas DataFrame tables. In particular, you can practice\n",
    "\n",
    "* installing new libraries and setting up a new environment for your project,\n",
    "* creating and using **generators** and **decorators**,\n",
    "* working with **Pandas DataFrames**.\n",
    "\n",
    "Please provide solutions to all exercises below and send me all notebooks by **31st of May 2024**.\n",
    "\n",
    "***\n",
    "\n",
    "## Part I: Setting up a new project environment\n",
    "\n",
    "In order to reuse tools or libraries shared through, for example, GitHub repositories, you need to be \n",
    "at ease with installing new libraries and environments in your own Python setup. \n",
    "\n",
    "To this end, the first part of the assignment is to \n",
    "* set up Python on your own machine (if you haven't done it yet)\n",
    "* and install libraries provided in ```src/environment_A1.yml```\n",
    "\n",
    "You can use the information I shared in my first e-mail on the course details. In particular and **more beginner-friendly**, you can use\n",
    "\n",
    "1. my YouTube video \"[Python Course: Set up Python](https://youtu.be/-RJnYbxVZTg)\",\n",
    "2. my brief instruction on how to set up the [Python environment in Anaconda Navigator](src/A1_Install_environment_in_Anaconda_Navigator.pdf),\n",
    "3. and switch to the new environment ```A1apml``` and start Jupyterlab in Anaconda Navigator.\n",
    "\n",
    "If you are **more experienced** and Python as well as Anaconda are already set up, you can\n",
    "\n",
    "1. install the environment from the console / terminal (Linux / macOS) or Anaconda Prompt (Windows) with the command ```conda env create -f environment_A1.yml``` (you need to do this in the directory ```.../Assignments/src/``` where ```environment_A1.yml``` is stored),\n",
    "2. activate the environment with ```conda activate A1apml```,\n",
    "3. and start jupyter lab with ```jupyter lab```.\n",
    "\n",
    "\n",
    "In other words, you might need to close this Jupyter lab window and restart it from the new environment.\n",
    "\n",
    "In this notebook, we will **work with this new environment** ```A1apml``` that provides you with\n",
    "Jupyter lab, NumPy, Pandas, and **PyMuPDF**. \n",
    "\n",
    "***\n",
    "\n",
    "## Part II: Read text from a PDF\n",
    "\n",
    "In the second part, we want to retrieve some information from the paper\n",
    "on the influential *vision transformer* (ViT) architecture which is provided in\n",
    "```data/A1_ViT_paper.pdf```.\n",
    "\n",
    "For this, we use PyMuPDF which is a high-performance Python library for data extraction, \n",
    "analysis, conversion, and manipulation of information stored in PDFs. You will import it through\n",
    "\n",
    "```Python\n",
    "import fitz\n",
    "```\n",
    "\n",
    "Find more information on the functionalities in this \n",
    "[overview](https://pymupdf.readthedocs.io/en/latest/the-basics.html). \n",
    "\n",
    "Execute the following cells load data and get a feeling for the library."
   ]
  },
  {
   "cell_type": "code",
   "execution_count": null,
   "id": "76b45dff-84d1-4809-91df-e16ff7ecec4f",
   "metadata": {},
   "outputs": [],
   "source": [
    "import fitz \n",
    "import pandas as pd\n",
    "import numpy as np\n",
    "\n",
    "paper_path = 'data/A1_ViT_paper.pdf'\n",
    "\n",
    "doc = fitz.open(paper_path)"
   ]
  },
  {
   "cell_type": "code",
   "execution_count": null,
   "id": "8c7da03a-5b1c-4cd8-8279-dce866eab585",
   "metadata": {},
   "outputs": [],
   "source": [
    "print(f\"The paper '{paper_path}' has {len(doc)} pages.\")"
   ]
  },
  {
   "cell_type": "code",
   "execution_count": null,
   "id": "f45fbc6c-a458-4421-a7a3-442dfb0d5dea",
   "metadata": {
    "scrolled": true
   },
   "outputs": [],
   "source": [
    "for page_nr, page in enumerate(doc): \n",
    "    text = page.get_text()\n",
    "    print(f\"----- Page {page_nr+1}\\n{text}\")"
   ]
  },
  {
   "cell_type": "markdown",
   "id": "76b19860-10eb-49c1-a948-0e82995d69cb",
   "metadata": {},
   "source": [
    "### Exercise II.1\n",
    "Write a **generator** ```page_provider``` which provides the pages of the PDF as strings.\n",
    "The generator is supposed to expect the path to the PDF ```paper_path```\n",
    "as an argument and, when, for example, used in a loop, provide the next page of\n",
    "the document.\n",
    "\n",
    "Fill in the cell below:"
   ]
  },
  {
   "cell_type": "code",
   "execution_count": null,
   "id": "1b27e156-5f46-4025-acc8-192934a92383",
   "metadata": {},
   "outputs": [],
   "source": []
  },
  {
   "cell_type": "markdown",
   "id": "57869552-99e3-4d0d-8135-867aa68d2b01",
   "metadata": {},
   "source": [
    "### Exercise II.2\n",
    "Extract the abstract and conclusion sections from the PDF into a string variable.\n",
    "\n",
    "For this, assign the generator ```page_provider``` to a variable e.g. ```get_page```. Loop over the pages and extract the sections on 'ABSTRACT'\n",
    "and 'CONCLUSION' and store the text in one string variable ```result_text```.\n",
    "\n",
    "Ideas on strings provided in [Notebook 1](../Notebooks/1-Python_Concepts.ipynb) might help you with that.\n",
    "\n",
    "Fill in the cell below:"
   ]
  },
  {
   "cell_type": "code",
   "execution_count": null,
   "id": "983736bb-2c19-4e82-babf-f645827c5cea",
   "metadata": {},
   "outputs": [],
   "source": []
  },
  {
   "cell_type": "code",
   "execution_count": null,
   "id": "8402abfe-2b7a-4a20-9358-f4526bcd77fa",
   "metadata": {},
   "outputs": [],
   "source": [
    "print(result_text)"
   ]
  },
  {
   "cell_type": "markdown",
   "id": "54291a5c-a18d-47f4-8b2f-6bcafc645dc2",
   "metadata": {},
   "source": [
    "***\n",
    "\n",
    "## Part III: Read a table from a PDF\n",
    "\n",
    "In the third part, we tackle the slightly more challenging task of extracting \n",
    "tables from PDFs. We use the exemplary table in ```data/A1_table_example.pdf``` for this.\n",
    "\n",
    "The following cell provide a wrapper function ```get_pandas_df``` to load the first table \n",
    "occurring on a specified page into a Pandas DataFrame. You can ignore the arguments\n",
    "```search_strategy```and ```search_region```for now. Read up on the used ```PyMuPDF``` function \n",
    "in the [find_tables documentation](https://pymupdf.readthedocs.io/en/latest/page.html#Page.find_tables). "
   ]
  },
  {
   "cell_type": "code",
   "execution_count": null,
   "id": "5497f37c-bed5-4e38-a27d-2ca909ca2d24",
   "metadata": {},
   "outputs": [],
   "source": [
    "import fitz\n",
    "import pandas as pd\n",
    "import numpy as np\n",
    "\n",
    "def get_pandas_df(page, search_strategy='text', search_region=None):\n",
    "    tabs = page.find_tables(strategy=search_strategy, clip=search_region) \n",
    "    \n",
    "    tab = tabs[0]\n",
    "    df = tab.to_pandas()\n",
    "\n",
    "    df = df.convert_dtypes()\n",
    "\n",
    "    return df"
   ]
  },
  {
   "cell_type": "code",
   "execution_count": null,
   "id": "fec2abad-6ad1-49fb-9d50-58936d32dfd8",
   "metadata": {},
   "outputs": [],
   "source": [
    "paper_path = \"data/A1_table_example.pdf\"\n",
    "\n",
    "doc = fitz.open(paper_path)\n",
    "\n",
    "print(f\"The paper '{paper_path}' has {len(doc)} pages.\")\n",
    "\n",
    "table_df = get_pandas_df(doc[0])"
   ]
  },
  {
   "cell_type": "code",
   "execution_count": null,
   "id": "d7bec008-7438-4176-8c76-228e3e54f6ed",
   "metadata": {},
   "outputs": [],
   "source": [
    "table_df"
   ]
  },
  {
   "cell_type": "markdown",
   "id": "064ad7d3-d499-4d4e-9fc4-bf069d8754e6",
   "metadata": {},
   "source": [
    "### Exercise III.1\n",
    "\n",
    "As you probably have noticed ```table_df``` requires some addtional processing\n",
    "before being properly used as DataFrame.\n",
    "\n",
    "Thus, write a **decorator** ```nicer_df``` which can be used to conveniently extend\n",
    "the functionality of our ```get_pandas_df```. In particular, please do not change the ```get_pandas_df``` function, but define a decorator as discussed in [Notebook 1](../Notebooks/1-Python_Concepts.ipynb).\n",
    "\n",
    "Complete the cell below and perform the following steps:\n",
    "\n",
    "* Drop all rows where entries with only empty strings ```''``` make up at least half of the entries in that row \n",
    "* Convert columns with numeric values to floats or integers, respectively\n",
    "* for each numeric row, provide as the last two rows the mean and standard deviation\n",
    "\n",
    "Hints: Your solution could include the following parts\n",
    "\n",
    "*  ```== ''```\n",
    "*  ```.sum(axis=1)```\n",
    "*  ```~``` operator for negation, i.e. ```~np.array([True, True, False])``` becomes ```array([False, False,  True])```\n",
    "*  ```pd.to_numeric(..., errors='ignore')```\n",
    "*  ```df.loc[row_index, column_name]```\n",
    "\n",
    "Note that your own solution might not require all of these."
   ]
  },
  {
   "cell_type": "code",
   "execution_count": null,
   "id": "1389268e-6137-45a6-9e94-59ab393579a4",
   "metadata": {},
   "outputs": [],
   "source": [
    "def nicer_df(func): \n",
    "    # Here comes your implementation"
   ]
  },
  {
   "cell_type": "markdown",
   "id": "14f71a01-f7a4-440b-bd3c-0f6da1cf6e04",
   "metadata": {},
   "source": [
    "If you were successful with performing all the outlined steps,\n",
    "you can *decorate* the ```get_pandas_df``` like this:"
   ]
  },
  {
   "cell_type": "code",
   "execution_count": null,
   "id": "a01b9530-31ec-44e4-90da-97c1f48de663",
   "metadata": {},
   "outputs": [],
   "source": [
    "@nicer_df\n",
    "def get_pandas_df(page, search_strategy='text', search_region=None):\n",
    "    tabs = page.find_tables(strategy=search_strategy, clip=search_region) \n",
    "    \n",
    "    tab = tabs[0]\n",
    "    df = tab.to_pandas()\n",
    "    \n",
    "    df = df.convert_dtypes()\n",
    "\n",
    "    return df"
   ]
  },
  {
   "cell_type": "markdown",
   "id": "cd84f487-af1a-4d84-abcb-c6430e7544f7",
   "metadata": {},
   "source": [
    "Re-run the table extraction with the extended functionality:"
   ]
  },
  {
   "cell_type": "code",
   "execution_count": null,
   "id": "175397c2-80ff-4e8e-8d7b-666cfe53f953",
   "metadata": {
    "scrolled": true
   },
   "outputs": [],
   "source": [
    "import fitz\n",
    "import pandas as pd\n",
    "import numpy as np\n",
    "\n",
    "paper_path = \"data/A1_table_example.pdf\"\n",
    "\n",
    "doc = fitz.open(paper_path)\n",
    "\n",
    "print(f\"The paper '{paper_path}' has {len(doc)} pages.\")\n",
    "\n",
    "nicer_table_df = get_pandas_df(doc[0])"
   ]
  },
  {
   "cell_type": "markdown",
   "id": "cca8bc2f-b8d9-42fa-bd38-f051e22a59f6",
   "metadata": {},
   "source": [
    "Here is a comparison between the \"old\" ```table_df```\n",
    "and \"new\" ```nicer_table_df```"
   ]
  },
  {
   "cell_type": "code",
   "execution_count": null,
   "id": "593e99d6-5b3a-4d56-af44-db3b0f05d4a1",
   "metadata": {},
   "outputs": [],
   "source": [
    "table_df"
   ]
  },
  {
   "cell_type": "code",
   "execution_count": null,
   "id": "c1006b1c-c77e-4c21-ae37-dea484d5d39e",
   "metadata": {
    "scrolled": true
   },
   "outputs": [],
   "source": [
    "nicer_table_df"
   ]
  },
  {
   "cell_type": "markdown",
   "id": "3f119dd9-2ad6-4946-99de-4ad6e8b3c05d",
   "metadata": {},
   "source": [
    "***\n",
    "\n",
    "## Bonus Part IV: Read a table from a PDF by specifying the section\n",
    "\n",
    "#### This last part is not required to complete assignment 1!\n",
    "\n",
    "You have probably realised\n",
    "the table in ```data/A1_table_example.pdf``` is a simplified example. If you consider\n",
    "the vision transformer paper ```data/A1_ViT_paper.pdf```, you notice that it is more \n",
    "challenging to read tables from \"real\" documents correctly.\n",
    "\n",
    "In this last section, you can explore how to extract tables in more realistic\n",
    "scenarios if you are interested.\n",
    "\n",
    "We load again the \"undecorated\" function ```get_pandas_df```for this."
   ]
  },
  {
   "cell_type": "code",
   "execution_count": null,
   "id": "9822f902-30ad-4465-a778-11e7185443cd",
   "metadata": {},
   "outputs": [],
   "source": [
    "def get_pandas_df(page, search_strategy='text', search_region=None):\n",
    "    tabs = page.find_tables(strategy=search_strategy, clip=search_region) \n",
    "    \n",
    "    tab = tabs[0]\n",
    "    df = tab.to_pandas()\n",
    "    \n",
    "    df = df.convert_dtypes()\n",
    "\n",
    "    return df"
   ]
  },
  {
   "cell_type": "markdown",
   "id": "d6ded638-1dba-4766-b224-449cf2f4b5cf",
   "metadata": {},
   "source": [
    "The additional arguments ```search_strategy``` / ```strategy```  and \n",
    "```search_region``` / ```clip``` provide additional control on how and \n",
    "where to find tables in the PDF. We focus on ```search_region``` / ```clip``` in the following.\n",
    "As before, you can find more in the [find_tables documentation](https://pymupdf.readthedocs.io/en/latest/page.html#Page.find_tables).\n",
    "\n",
    "With ```search_region``` / ```clip```, you can specify a particular region of the \n",
    "page that should be parsed.\n",
    "\n",
    "#### Bonus Exercise IV.1\n",
    "Explore different settings for ```custom_rectangle``` by changing the arguments of\n",
    "```fitz.Rect(...)``` and see how well you can parse the tables!"
   ]
  },
  {
   "cell_type": "code",
   "execution_count": null,
   "id": "c225cd81-407e-4a6b-9692-464e598bf56d",
   "metadata": {},
   "outputs": [],
   "source": [
    "import fitz\n",
    "import pandas as pd\n",
    "import numpy as np\n",
    "\n",
    "doc = fitz.open(\"data/A1_ViT_paper.pdf\")\n",
    "\n",
    "# Simpler table on page 5\n",
    "page = doc[4]\n",
    "\n",
    "# Slighlty more complicated table on page 6\n",
    "# page = doc[5]\n",
    "\n",
    "pdf_rectangle = page.rect\n",
    "custom_rectangle = fitz.Rect(pdf_rectangle.x0, \n",
    "                             pdf_rectangle.y0, \n",
    "                             pdf_rectangle.x1, \n",
    "                             pdf_rectangle.y1\n",
    "                            )\n",
    "\n",
    "print(f\"pdf_rectangle:\\t\\t{pdf_rectangle}\")\n",
    "print(f\"custom_rectangle:\\t{custom_rectangle}\\n\")\n",
    "\n",
    "table_vit_df = get_pandas_df(page, search_strategy='text', search_region=custom_rectangle)\n",
    "\n",
    "doc.close()\n",
    "\n",
    "table_vit_df"
   ]
  }
 ],
 "metadata": {
  "kernelspec": {
   "display_name": "Python 3 (ipykernel)",
   "language": "python",
   "name": "python3"
  },
  "language_info": {
   "codemirror_mode": {
    "name": "ipython",
    "version": 3
   },
   "file_extension": ".py",
   "mimetype": "text/x-python",
   "name": "python",
   "nbconvert_exporter": "python",
   "pygments_lexer": "ipython3",
   "version": "3.11.5"
  }
 },
 "nbformat": 4,
 "nbformat_minor": 5
}
