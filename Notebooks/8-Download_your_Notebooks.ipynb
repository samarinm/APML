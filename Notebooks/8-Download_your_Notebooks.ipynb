{
 "cells": [
  {
   "cell_type": "markdown",
   "metadata": {},
   "source": [
    "# Download Your Notebooks\n",
    "\n",
    "You will be able to access Noto and your notebooks after the course, too. However,\n",
    "you might want to download the course notebooks with your notes, changes and additions \n",
    "to make sure that you have a local copy.\n",
    "\n",
    "In order to do this, please execute the following cell. The script will create an \n",
    "archive which contains your notebooks."
   ]
  },
  {
   "cell_type": "code",
   "execution_count": 1,
   "metadata": {},
   "outputs": [
    {
     "name": "stdout",
     "output_type": "stream",
     "text": [
      "Archive was created successfully!\n"
     ]
    }
   ],
   "source": [
    "import os\n",
    "from zipfile import ZipFile\n",
    "\n",
    "with ZipFile('../APML_my_notebooks.zip', 'w') as zipObj:\n",
    "    for folderName, subfolders, filenames in os.walk('.'):\n",
    "        for filename in filenames:\n",
    "            filePath = os.path.join(folderName, filename)\n",
    "            zipObj.write(filePath)\n",
    "            \n",
    "print(\"Archive was created successfully!\")"
   ]
  },
  {
   "cell_type": "markdown",
   "metadata": {},
   "source": [
    "You will be able find the archive ```APML_my_notebooks.zip``` in the __APML \n",
    "folder__. Now, you can right-click on the .zip file and download the archive. You can\n",
    "do this now or on your personal computer.\n",
    "\n",
    "<img src=\"images/download_archive.png\" alt=\"Download archive\" width=\"400\"/>\n",
    "\n",
    "For this course, Noto automatically copied the course material from\n",
    "\n",
    "[https://github.com/samarinm/APML](https://github.com/samarinm/APML) \n",
    "\n",
    "There you will be able to find the updated notebooks (including solutions)."
   ]
  }
 ],
 "metadata": {
  "kernelspec": {
   "display_name": "Python 3 (ipykernel)",
   "language": "python",
   "name": "python3"
  },
  "language_info": {
   "codemirror_mode": {
    "name": "ipython",
    "version": 3
   },
   "file_extension": ".py",
   "mimetype": "text/x-python",
   "name": "python",
   "nbconvert_exporter": "python",
   "pygments_lexer": "ipython3",
   "version": "3.11.5"
  }
 },
 "nbformat": 4,
 "nbformat_minor": 4
}
