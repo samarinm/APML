{
 "cells": [
  {
   "cell_type": "markdown",
   "metadata": {},
   "source": [
    "# Advanced Python and Machine Learning Course\n",
    "\n",
    "With this course we provide an overview of important Machine Learning concepts and introduce more advanced __Python 3__ \n",
    "programming topcs. In the following notebooks, we will cover the areas of **regression**, **classification**, \n",
    "and **knowledge discovery** as well as some of the most relevant Python libraries for Machine Learning. Of course, we\n",
    "won't be able to provide an exhaustive presentation of all topics and their mathematical depth. The goal of this \n",
    "course is to give you a practical introduction with some real-world examples. There might be some additional topics, \n",
    "objects or commands you later find useful but have not seen in this course. However, we believe that you really become \"fluent\" \n",
    "in a programming language and the different Machine Learning tools by trying to implement your own projects and learn from \n",
    "difficulties you encounter along the way.\n",
    "\n",
    "### Small overview of working with Jupyter Lab\n",
    "\n",
    "In this course, we make use of Jupyter Notebooks which allow us to combine executable code with text in \n",
    "one document, increasing code-readibility and documentation.\n",
    "\n",
    "In Jupyter Notebooks, you have different kinds of __cells__ you can make use of: __Code__, __Markdown__, \n",
    "and __Raw__. In order to select a cell for execution you can just click on the relevant part of the \n",
    "notebook and a blue bar on the left will highlight the currently selected cell like in the image below.\n",
    "\n",
    "![Cell Example](images/cell_example.png)\n",
    "\n",
    "Try to run the following code cell with &#9654; in the panel above or *Shift+Enter*!"
   ]
  },
  {
   "cell_type": "code",
   "execution_count": null,
   "metadata": {
    "tags": []
   },
   "outputs": [],
   "source": [
    "print(\"It works!\")"
   ]
  },
  {
   "cell_type": "markdown",
   "metadata": {
    "tags": []
   },
   "source": [
    "You can stop the execution of a cell with &#9632; in the panel!\n",
    "\n",
    "***\n",
    "\n",
    "### Markdown mode\n",
    "\n",
    "Try to add a cell below, change to __Markdown__ mode and write a note! \n",
    "\n",
    "1. Add a cell with $+$ in the panel above or *Esc+B*\n",
    "2. Change to __Markdown__ in the panel above (drop-down list) or *Esc+M*\n",
    "3. As before, run the cell with &#9654; in the panel above or *Shift+Enter*!\n",
    "\n",
    "You can make notes inside the notebooks if you like! In order to edit a Markdown cell double-click\n",
    "somewhere in the cell! \n",
    "\n",
    "In Markdown mode you can use the following special characters:\n",
    "\n",
    "# Title\n",
    "## Subtitle\n",
    "\n",
    "* bullet point 1\n",
    "* bullet point 2\n",
    "\n",
    "_italic font_\n",
    "__bold__\n",
    "\n",
    "```highlighted code```\n",
    "\n",
    "*** (that's a separator line)"
   ]
  },
  {
   "cell_type": "markdown",
   "metadata": {
    "tags": []
   },
   "source": [
    "You can also use $\\LaTeX$ if you want, like  $\\sum_{k=0}^\\infty q^k = \\frac{1}{1-q}$ (double-click here to see how it is used)."
   ]
  },
  {
   "cell_type": "markdown",
   "metadata": {
    "tags": []
   },
   "source": [
    "***\n",
    "\n",
    "### Code mode\n",
    "\n",
    "Creating a __Code__ cell works similarly. You can make use of it later on!\n",
    "\n",
    "1. Add a cell with $+$ in the panel above or *Esc+B*\n",
    "2. Change to __Code__ in the panel above (drop-down list) or *Esc+Y*\n",
    "3. Again, run the cell with &#9654; in the panel above or *Shift+Enter*!\n",
    "\n",
    "***\n",
    "\n",
    "### Some Remarks\n",
    "\n",
    "* Delete a cell with right-click on the cell and the \"Delete Cells\" option\n",
    "* __Be careful which cells you delete__ because it might not be possible to retrieve them!\n",
    "* In case, you accidently deleted something try _Esc+Z_ to retrieve a cell or _Ctrl+Z_ to retrieve changes within a cell\n",
    "* Save your notebooks with the _save icon_ in the panel above or with _Ctrl+S_! \n",
    "__Try to save after every bigger change!__ Depending on your machine, Jupyter Lab might crash from time to time.\n",
    "* Try not to open too many windows in Jupyter Lab. This might lead to a crash sometimes. \n",
    "\n",
    "***\n",
    "### Final Test\n",
    "\n",
    "Let's see whether your setup is ready for the course. Depending on whether you (1) *use Noto* or (2) have *your own installation*,\n",
    "please note the following:\n",
    "\n",
    "#### (1) If you are a **Noto user** \n",
    "\n",
    "you will need to make sure that you have the right *kernel* selected. You can do this by executing the following steps.\n",
    "\n",
    "Step 1: Click in the top-right corner on the kernel name.\n",
    "\n",
    "![Step 1](images/Kernel_change_step_1.png)\n",
    "\n",
    "Step 2: A window pops up displaying the currently selected kernel. Click on the drop-down menu.\n",
    "\n",
    "![Step 2](images/Kernel_change_step_2.png)\n",
    "\n",
    "Step 3: Select the kernel called ```Tensorflow``` and click ```Select```.\n",
    "\n",
    "![Step 3](images/Kernel_change_step_3.png)\n",
    "\n",
    "Step 4: Now, the top-right corner kernel name should read ```Tensorflow```. Whenever something is not running properly, \n",
    "check whether the ```Tensorflow``` kernel is selected!\n",
    "\n",
    "![Step 4](images/Kernel_change_step_4.png)\n",
    "\n",
    "\n",
    "#### (2) If you have your **own local installation**\n",
    "\n",
    "you will need to install TensorFlow yourself. For this, you can follow the instructions provided in the YouTube video! \n",
    "In particular, you can install TensorFlow (as well as any other potentially missing library) in the Anaconda Navigator:\n",
    "\n",
    "![Installing TensorFlow in Anaconda Navigator](images/Install_Tensorflow.png)\n",
    "\n",
    "Note that fetching specifications and downloading the package might take some time (in some cases up to an hour)!\n",
    "\n",
    "\n",
    "#### Please execute the cell at the bottom \n",
    "to check whether all libraries are available which we will use later on. "
   ]
  },
  {
   "cell_type": "code",
   "execution_count": null,
   "metadata": {},
   "outputs": [],
   "source": [
    "import numpy\n",
    "import pandas\n",
    "import matplotlib\n",
    "import seaborn\n",
    "import scipy \n",
    "import sklearn\n",
    "import numba\n",
    "import deepsmiles\n",
    "import rdkit\n",
    "import xarray\n",
    "import tensorflow \n",
    "from tensorflow import keras\n",
    "\n",
    "print(\"Everything is working!\")"
   ]
  }
 ],
 "metadata": {
  "kernelspec": {
   "display_name": "Python 3 (ipykernel)",
   "language": "python",
   "name": "python3"
  },
  "language_info": {
   "codemirror_mode": {
    "name": "ipython",
    "version": 3
   },
   "file_extension": ".py",
   "mimetype": "text/x-python",
   "name": "python",
   "nbconvert_exporter": "python",
   "pygments_lexer": "ipython3",
   "version": "3.11.5"
  }
 },
 "nbformat": 4,
 "nbformat_minor": 4
}
