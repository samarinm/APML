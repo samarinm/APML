{
 "cells": [
  {
   "cell_type": "markdown",
   "id": "155d0ccb-ea6d-4cf9-b7d5-792d2c39c35d",
   "metadata": {},
   "source": [
    "# 1. Python Concepts\n",
    "\n",
    "We start by reviewing some more advanced Python concepts which might prove useful\n",
    "in implementing your Machine Learning projects. In this notebook we focus on the follwoing \n",
    "topics which, in particular, review some concepts related to functions in Python:\n",
    "\n",
    "* f-strings\n",
    "* subplots with Matplotlib\n",
    "* lambda functions\n",
    "* generators\n",
    "* built-in functions map and filter\n",
    "* *args and **kwargs\n",
    "* decorators\n",
    "* speeding up function executions with Numba\n",
    "\n",
    "Keywords: ```f\"String\"```, ```plt.subplots```, ```plt.figure.add_subplot```, ```np.ravel```, \n",
    "```lambda x: ...```, ```yield```, ```map```, ```filter```, ```*args```, ```**kwargs```,\n",
    "```@decorator```, ```@jit```, ```%timeit```\n",
    "\n",
    "***\n",
    "\n",
    "## Important Python Libraries\n",
    "\n",
    "There are several useful Python libraries for scientific computing and Machine Learning in Python.\n",
    "\n",
    "* ```NumPy``` extends basic Python data structures (like lists) and provides efficient numerical functions for computations with large data arrays.\n",
    "\n",
    "* ```SciPy``` builds on NumPy and provides extended functionality for numerical and statistical methods.\n",
    "\n",
    "* ```Pandas``` incorporates data frames (similar to programming lanuage R) and allows for more statistical analyses.\n",
    "\n",
    "* ```Matplotlib``` is the standard plotting library in Python.\n",
    "\n",
    "* ```Seaborn``` builds on Matplotlib and, in particular, extends Pandas functionality to create appealing plots.\n",
    "\n",
    "* ```Scikit-learn``` is a powerful Machine Learning library providing a wide range of learning algorithms. It builds upon NumPy, SciPy, and Matplotlib.\n",
    "\n",
    "* ```TensorFlow``` is a library for efficient Machine Learning implementation and a standard library for Deep Learning.\n",
    "\n",
    "* ```Keras``` is a high-level Deep Learning library build on top of TensorFlow which simplifies creating, training, and evaluating neural networks.\n",
    "\n",
    "* ```PyTorch``` is another standard library for Deep Learning adhering more closely to basic Python principles.\n",
    "\n",
    "\n",
    "In this course, we will mostly work with ```NumPy```, ```Matplotlib```, ```sckit-learn```, and ```TensorFlow``` / ```Keras```.\n",
    "You will be able to load these librares like this"
   ]
  },
  {
   "cell_type": "code",
   "execution_count": null,
   "id": "2603d6c3-a447-497e-bd66-661c4e18da8e",
   "metadata": {},
   "outputs": [],
   "source": [
    "import numpy as np\n",
    "import matplotlib.pyplot as plt\n",
    "from sklearn import linear_model"
   ]
  },
  {
   "cell_type": "markdown",
   "id": "da0a8006-f988-42b5-b381-ff163dad5c40",
   "metadata": {},
   "source": [
    "***\n",
    "\n",
    "## f-Strings\n",
    "\n",
    "Recommended string formatting since Python 3.6:"
   ]
  },
  {
   "cell_type": "code",
   "execution_count": null,
   "id": "3e78ad9e-a636-4c8b-b8f2-520387bef5f6",
   "metadata": {},
   "outputs": [],
   "source": [
    "float_var = 3.141592\n",
    "\n",
    "print(f'String formatting allows including variables like {float_var:.2f}.')"
   ]
  },
  {
   "cell_type": "markdown",
   "id": "ce6e7caf-8c2c-4376-8670-0381034670e3",
   "metadata": {},
   "source": [
    "***\n",
    "\n",
    "## Subplots with Matplotlib"
   ]
  },
  {
   "cell_type": "markdown",
   "id": "a3380b49-b6a1-4a2f-bf61-6d6eb9fa4643",
   "metadata": {},
   "source": [
    "Let us create some dummy images:"
   ]
  },
  {
   "cell_type": "code",
   "execution_count": null,
   "id": "ffaf154c-b3f8-4893-b44d-ba5c7b88fb8c",
   "metadata": {},
   "outputs": [],
   "source": [
    "import numpy as np\n",
    "import matplotlib.pyplot as plt\n",
    "\n",
    "dummy_images = [[[0,0,0,0,0],\n",
    "                 [0,1,1,1,0],\n",
    "                 [0,0,1,0,0],\n",
    "                 [0,0,1,0,0],\n",
    "                 [0,0,0,0,0]],\n",
    "                \n",
    "                [[0,0,0,0,0],\n",
    "                 [0,0,1,0,0],\n",
    "                 [0,1,1,1,0],\n",
    "                 [0,0,1,0,0],\n",
    "                 [0,0,0,0,0]],\n",
    "                \n",
    "                [[0,0,0,0,0],\n",
    "                 [0,1,1,0,0],\n",
    "                 [0,0,1,0,0],\n",
    "                 [0,0,1,0,0],\n",
    "                 [0,0,0,0,0]]]"
   ]
  },
  {
   "cell_type": "markdown",
   "id": "6188749d-6b67-4fa9-aaeb-990e3d945b03",
   "metadata": {},
   "source": [
    "We usually use ```plt.subplots``` to create a figure with several sub-figures."
   ]
  },
  {
   "cell_type": "code",
   "execution_count": null,
   "id": "90a6a1d8-0f1b-4cef-841a-ea434d685727",
   "metadata": {},
   "outputs": [],
   "source": [
    "fig, axs = plt.subplots(1,3)\n",
    "\n",
    "axs[0].imshow(dummy_images[0])\n",
    "axs[0].set_title('Example 1')\n",
    "\n",
    "axs[1].imshow(dummy_images[1])\n",
    "axs[1].set_title('Example 2')\n",
    "\n",
    "axs[2].imshow(dummy_images[2])\n",
    "axs[2].set_title('Example 3')\n",
    "\n",
    "plt.show()"
   ]
  },
  {
   "cell_type": "markdown",
   "id": "260cde0b-8562-4aac-ab21-6e1f0b85ef6e",
   "metadata": {},
   "source": [
    "Another way to plot this is:"
   ]
  },
  {
   "cell_type": "code",
   "execution_count": null,
   "id": "9a10269a-be36-4f42-b785-d35f079796fe",
   "metadata": {},
   "outputs": [],
   "source": [
    "fig, axs = plt.subplots(1,3)\n",
    "\n",
    "for i, ax in enumerate(axs.ravel()):\n",
    "    ax.imshow(dummy_images[i])\n",
    "    ax.set_title(f\"Example {i}\")\n",
    "\n",
    "plt.show()"
   ]
  },
  {
   "cell_type": "markdown",
   "id": "b3fb87fe-52c2-4966-8258-87e89e5461c5",
   "metadata": {},
   "source": [
    "#### Note\n",
    "that you can iterate over subplots stored in object ```axs``` \n",
    " \n",
    "```Python\n",
    "In: print(axs)\n",
    "Out: [<Axes: > <Axes: > <Axes: >]\n",
    "```\n",
    "\n",
    "with method ```ravel``` which creates a list of subplots.\n",
    "\n",
    "There is a second way to create subplots which makes use of the ```plf.figure.add_subplot```\n",
    "method. This is particularly useful when combining 3d and 2d sub-figures like in the\n",
    "following example."
   ]
  },
  {
   "cell_type": "code",
   "execution_count": null,
   "id": "04164f0a-da7c-4294-ae24-54302ec3f067",
   "metadata": {},
   "outputs": [],
   "source": [
    "data_3d = np.random.multivariate_normal(mean=[1,2,4], cov=np.eye(3), size=100)\n",
    "\n",
    "fig = plt.figure(figsize=(10,2))\n",
    "\n",
    "ax = fig.add_subplot(1,4,1, projection='3d')\n",
    "ax.scatter(data_3d[:,0], data_3d[:,1], data_3d[:,2], marker='.')\n",
    "\n",
    "ax.set_title('3D Example')\n",
    "\n",
    "ax = fig.add_subplot(1,4,2)\n",
    "\n",
    "ax.imshow(dummy_images[0])\n",
    "ax.set_title(\"Example 1\")\n",
    "\n",
    "ax = fig.add_subplot(1,4,3)\n",
    "\n",
    "ax.imshow(dummy_images[1])\n",
    "ax.set_title(\"Example 2\")\n",
    "\n",
    "ax = fig.add_subplot(1,4,4)\n",
    "ax.imshow(dummy_images[2])\n",
    "ax.set_title(\"Example 3\")\n",
    "\n",
    "plt.show()"
   ]
  },
  {
   "cell_type": "markdown",
   "id": "b6181048-30c7-4876-bc9a-2396eed7910f",
   "metadata": {},
   "source": [
    "***\n",
    "\n",
    "## Lambda Functions\n",
    "\n",
    "Typically, we declare a function like this in Python:"
   ]
  },
  {
   "cell_type": "code",
   "execution_count": null,
   "id": "5c5c29b5-19b6-4630-92f9-e29fc5ef5748",
   "metadata": {},
   "outputs": [],
   "source": [
    "def fahrenheit_to_celsius(deg_F):\n",
    "    return (deg_F - 32) * 5/9"
   ]
  },
  {
   "cell_type": "code",
   "execution_count": null,
   "id": "246d6535-55f9-4b74-ad27-adbcc78fad02",
   "metadata": {},
   "outputs": [],
   "source": [
    "fahrenheit_to_celsius(98.6)"
   ]
  },
  {
   "cell_type": "markdown",
   "id": "c820b6a3-6396-4d90-bd05-6c399faffb16",
   "metadata": {},
   "source": [
    "For such simple **single expression functions** a lambda function might\n",
    "be a convenient choice."
   ]
  },
  {
   "cell_type": "code",
   "execution_count": null,
   "id": "9bd3615c-e997-4c72-a5f2-89ac91709893",
   "metadata": {},
   "outputs": [],
   "source": [
    "fahrenheit_to_celsius_lambda = lambda x: (x - 32) * 5/9"
   ]
  },
  {
   "cell_type": "code",
   "execution_count": null,
   "id": "69bb6d71-7871-44bf-ae05-db7acc22100f",
   "metadata": {
    "tags": []
   },
   "outputs": [],
   "source": [
    "fahrenheit_to_celsius_lambda(98.6)"
   ]
  },
  {
   "cell_type": "markdown",
   "id": "98e2bc64-8312-457a-bd97-c5ede53de7be",
   "metadata": {},
   "source": [
    "They are sometimes referred to as **anonymous functions**, as they are not \n",
    "required to be bound to a name, e.g."
   ]
  },
  {
   "cell_type": "code",
   "execution_count": null,
   "id": "1b36f7a3-1090-4b68-a4cd-7df9ebe91c67",
   "metadata": {},
   "outputs": [],
   "source": [
    "(lambda x: (x - 32) * 5/9)(98.6)"
   ]
  },
  {
   "cell_type": "markdown",
   "id": "49ec29d4-1552-42f5-813a-b741c9230f9c",
   "metadata": {},
   "source": [
    "We will see a more interesting example below!"
   ]
  },
  {
   "cell_type": "markdown",
   "id": "a1053221-892f-43af-b444-e4f0739641ca",
   "metadata": {
    "tags": []
   },
   "source": [
    "***\n",
    "\n",
    "## Generators\n",
    "\n",
    "Generator functions are special functions particularly suited for \n",
    "generating sequences of various kind. "
   ]
  },
  {
   "cell_type": "code",
   "execution_count": null,
   "id": "2c1c42cb-3c32-465c-869b-2afad9ffe2f1",
   "metadata": {},
   "outputs": [],
   "source": [
    "def squared_sequence(limit):\n",
    "    num = 0\n",
    "    \n",
    "    while num < limit:\n",
    "        yield num**2\n",
    "        num += 1"
   ]
  },
  {
   "cell_type": "code",
   "execution_count": null,
   "id": "83ae0bd7-3500-4f7f-8a57-8ba81b00c17a",
   "metadata": {},
   "outputs": [],
   "source": [
    "squared_sequence(10)"
   ]
  },
  {
   "cell_type": "code",
   "execution_count": null,
   "id": "313688b5-467f-440f-b6a8-3154a3f58d69",
   "metadata": {},
   "outputs": [],
   "source": [
    "gen = squared_sequence(10)"
   ]
  },
  {
   "cell_type": "code",
   "execution_count": null,
   "id": "2f3027f5-fc2c-4f4b-8202-f5c30541159d",
   "metadata": {
    "tags": []
   },
   "outputs": [],
   "source": [
    "next(gen)"
   ]
  },
  {
   "cell_type": "code",
   "execution_count": null,
   "id": "6edfe687-efe4-40a6-906b-58605d0df61f",
   "metadata": {},
   "outputs": [],
   "source": [
    "for i in squared_sequence(10):\n",
    "    print(i)"
   ]
  },
  {
   "cell_type": "markdown",
   "id": "a77fb716-79ff-4891-8a0a-f7fe64a9f9df",
   "metadata": {
    "tags": []
   },
   "source": [
    "#### Note the differences to standard functions:\n",
    "* Generators *yield* values, suspend the function and maintain the local state \n",
    "* The values are generated when they are required (called with ```next()```), i.e. we do not store a whole list but generate one element at a time\n",
    "* Once all elements are generated, the iteration stops\n",
    "\n",
    "However, you can still contain all elements in a list:"
   ]
  },
  {
   "cell_type": "code",
   "execution_count": null,
   "id": "850de9eb-aed3-49e4-8fd8-01ee3b8db67e",
   "metadata": {},
   "outputs": [],
   "source": [
    "list(squared_sequence(10))"
   ]
  },
  {
   "cell_type": "markdown",
   "id": "85e83c43-d5e9-4545-98d4-6fe218e89e71",
   "metadata": {},
   "source": [
    "***\n",
    "\n",
    "## Map and Filter\n",
    "\n",
    "The built-in functions ```map``` and ```filter``` are convenient ways to \n",
    "apply a function to all elements of an iterable and avoid writing a loop for that.\n",
    "\n",
    "With ```map``` we apply the function to each element of the iterable(s) and return the results. \n",
    "We use it in the following way:\n",
    "\n",
    "```Python\n",
    "map( function, iterable(s) )\n",
    "```\n",
    "\n",
    "Let's see some examples."
   ]
  },
  {
   "cell_type": "code",
   "execution_count": null,
   "id": "0c5096e4-a006-43dd-b63b-e4db5fca66d9",
   "metadata": {},
   "outputs": [],
   "source": [
    "from matplotlib.colors import to_rgb\n",
    "\n",
    "colours = ['green', 'red', 'blue', 'yellow']\n",
    "\n",
    "rgb_colours = map(to_rgb, colours)\n",
    "\n",
    "print(f\"Try to print rgb_colours: {rgb_colours}\\n\")\n",
    "\n",
    "print(list(rgb_colours))"
   ]
  },
  {
   "cell_type": "code",
   "execution_count": null,
   "id": "3c2f24eb-f9b5-426b-addd-c2232da057e8",
   "metadata": {},
   "outputs": [],
   "source": [
    "decimals = [3.14159, 2.71828, 1.61803]\n",
    "\n",
    "rounded = list( map( round, decimals, range(1,4) ) )\n",
    "\n",
    "print(rounded)"
   ]
  },
  {
   "cell_type": "markdown",
   "id": "b1730fc2-9d2a-47bf-a04a-b7efdd332b87",
   "metadata": {},
   "source": [
    "With ```filter``` we apply a boolean function to an iterable and provide only the elements\n",
    "which returned ```True```. We use it like this:\n",
    "\n",
    "```Python\n",
    "filter( function, iterable )\n",
    "```\n",
    "\n",
    "where ```function``` returns boolean values ```True``` or ```False```."
   ]
  },
  {
   "cell_type": "code",
   "execution_count": null,
   "id": "a7086d76-ff5e-481a-9922-25f097c5dfd3",
   "metadata": {},
   "outputs": [],
   "source": [
    "def passed(grade):\n",
    "    return grade > 4.0"
   ]
  },
  {
   "cell_type": "code",
   "execution_count": null,
   "id": "9d0807ab-4dad-4347-b8b3-ec9d103b0cf1",
   "metadata": {},
   "outputs": [],
   "source": [
    "grades = [5.5, 6.0, 2.0, 3.5, 4.5]\n",
    "\n",
    "list( filter(passed, grades) )"
   ]
  },
  {
   "cell_type": "markdown",
   "id": "d5961e7d-d514-4fe2-9857-f01f27479217",
   "metadata": {},
   "source": [
    "A typical use case of lambda functions is actually in connection with ```map``` or ```filter```."
   ]
  },
  {
   "cell_type": "code",
   "execution_count": null,
   "id": "378d78ee-e4ce-4e55-b78a-36999f8bf493",
   "metadata": {},
   "outputs": [],
   "source": [
    "list( filter( lambda grade: grade > 4.0, grades ) )"
   ]
  },
  {
   "cell_type": "code",
   "execution_count": null,
   "id": "1c506d1b-2860-492a-ab26-e535488fcd09",
   "metadata": {},
   "outputs": [],
   "source": [
    "list( map( lambda grade: grade > 4.0, grades ) )"
   ]
  },
  {
   "cell_type": "markdown",
   "id": "047b3187-bbcb-4c6d-a973-b19928d7962a",
   "metadata": {
    "tags": []
   },
   "source": [
    "***\n",
    "\n",
    "## *args and **kwargs\n",
    "\n",
    "Sometimes you see these ```*args``` and ```**kwargs``` arguments in functions and classes.\n",
    "We use them to write functions with variable number of arguments of positional and keyword arguments!\n",
    "\n",
    "Here's an example:"
   ]
  },
  {
   "cell_type": "code",
   "execution_count": null,
   "id": "73610baf-e9d4-4bdb-a817-2466cd7f3a3e",
   "metadata": {},
   "outputs": [],
   "source": [
    "def print_arguments(first, *args, **kwargs):\n",
    "    \n",
    "    print(first)\n",
    "    \n",
    "    if args:\n",
    "        print(args)\n",
    "    if kwargs:\n",
    "        print(kwargs)"
   ]
  },
  {
   "cell_type": "code",
   "execution_count": null,
   "id": "a5738f75-7531-479c-865f-4a2ebfee40ec",
   "metadata": {},
   "outputs": [],
   "source": [
    "print_arguments()"
   ]
  },
  {
   "cell_type": "code",
   "execution_count": null,
   "id": "ba4e1b35-a8ed-4d60-9d7c-aa7afdc93ab2",
   "metadata": {},
   "outputs": [],
   "source": [
    "print_arguments(1)"
   ]
  },
  {
   "cell_type": "code",
   "execution_count": null,
   "id": "9ed2c7c3-c36b-4b2c-ac55-6c060c77814c",
   "metadata": {},
   "outputs": [],
   "source": [
    "print_arguments(1, 2, 3)"
   ]
  },
  {
   "cell_type": "code",
   "execution_count": null,
   "id": "6c302b1a-3b64-4728-a635-cd2bc847bde5",
   "metadata": {},
   "outputs": [],
   "source": [
    "print_arguments(1, 2, 3, color='red', marker='x')"
   ]
  },
  {
   "cell_type": "markdown",
   "id": "8223202b-9449-441a-bec6-0cf6e19e2752",
   "metadata": {},
   "source": [
    "#### Note \n",
    "that with ```*args``` we collect additional positional arguments in a tuple\n",
    "and with ```**kwargs``` the additional keyword arguments in a dictionary."
   ]
  },
  {
   "cell_type": "markdown",
   "id": "3fedcb9c-b1b2-4f27-a146-bddcfc2f8d59",
   "metadata": {},
   "source": [
    "***\n",
    "\n",
    "## Decorators\n",
    "\n",
    "Decorators are a great way to modify the behaviour of a function or class\n",
    "without changing the function or class itself."
   ]
  },
  {
   "cell_type": "code",
   "execution_count": null,
   "id": "a187bdbf-8bcd-4da4-b755-53c4ca318429",
   "metadata": {},
   "outputs": [],
   "source": [
    "def fahrenheit_to_celsius(deg_F):\n",
    "    deg_C = (deg_F - 32) * 5/9\n",
    "    return deg_C"
   ]
  },
  {
   "cell_type": "code",
   "execution_count": null,
   "id": "12f5a69a-0bb5-4000-93bf-3933ffc7460a",
   "metadata": {},
   "outputs": [],
   "source": [
    "fahrenheit_to_celsius(deg_F=80)"
   ]
  },
  {
   "cell_type": "markdown",
   "id": "9c079f49-e00d-4dc3-a53a-5dcaac891998",
   "metadata": {},
   "source": [
    "Let's define a decorator and \"decorate\" the previous function!"
   ]
  },
  {
   "cell_type": "code",
   "execution_count": null,
   "id": "484899c6-9061-42fd-96f0-6d43f8df5dfb",
   "metadata": {},
   "outputs": [],
   "source": [
    "def just_int(func): \n",
    "    \n",
    "    def wrapper(**kwargs):\n",
    "        res = func(**kwargs)\n",
    "        return int(res)\n",
    "    \n",
    "    return wrapper  "
   ]
  },
  {
   "cell_type": "code",
   "execution_count": null,
   "id": "ba9af41a-a81a-4984-9762-3d522e67af73",
   "metadata": {},
   "outputs": [],
   "source": [
    "@just_int\n",
    "def fahrenheit_to_celsius(deg_F):\n",
    "    deg_C = (deg_F - 32) * 5/9\n",
    "    return deg_C"
   ]
  },
  {
   "cell_type": "code",
   "execution_count": null,
   "id": "805dee08-a6ac-48eb-8ab6-aefa71221971",
   "metadata": {},
   "outputs": [],
   "source": [
    "fahrenheit_to_celsius(deg_F=80)"
   ]
  },
  {
   "cell_type": "code",
   "execution_count": null,
   "id": "5e26d7ac-e782-41a1-8d8a-39596ae8c54c",
   "metadata": {},
   "outputs": [],
   "source": [
    "def just_int(print_out=None):\n",
    "    \n",
    "    def just_int_inner(func): \n",
    "\n",
    "        def wrapper(*args,**kwargs):\n",
    "\n",
    "            if print_out:\n",
    "                print(print_out)\n",
    "                \n",
    "            res = func(*args,**kwargs)\n",
    "            return int(res)\n",
    "\n",
    "        return wrapper  \n",
    "    \n",
    "    return just_int_inner"
   ]
  },
  {
   "cell_type": "code",
   "execution_count": null,
   "id": "93ca926d-927f-4da1-ae64-19f961b57b34",
   "metadata": {},
   "outputs": [],
   "source": [
    "@just_int(print_out='Get rid of decimals!')\n",
    "def fahrenheit_to_celsius(deg_F):\n",
    "    deg_C = (deg_F - 32) * 5/9\n",
    "    return deg_C"
   ]
  },
  {
   "cell_type": "code",
   "execution_count": null,
   "id": "4c9dc1ff-736e-44db-932e-3add535d1483",
   "metadata": {},
   "outputs": [],
   "source": [
    "fahrenheit_to_celsius(deg_F=80)"
   ]
  },
  {
   "cell_type": "markdown",
   "id": "c00c0fb4-5b3c-40f6-ada7-11f802c5397d",
   "metadata": {},
   "source": [
    "***\n",
    "\n",
    "## Numba\n",
    "\n",
    "Numba is a just-in-time compiler for Python which can speed up your code substantially \n",
    "if it is based on loops, NumPy arrays and NumPy functions. Its main feature is the\n",
    "```jit``` decorator. Find more on Numba in the [official documentation](https://numba.readthedocs.io/en/stable/user/5minguide.html).\n",
    "\n",
    "Let's see what it does on a small example."
   ]
  },
  {
   "cell_type": "code",
   "execution_count": null,
   "id": "4b0ccac1-8b2e-4957-8920-3af686c330e4",
   "metadata": {},
   "outputs": [],
   "source": [
    "from numba import jit\n",
    "import numpy as np"
   ]
  },
  {
   "cell_type": "code",
   "execution_count": null,
   "id": "6806a31e-619f-480b-a6ea-4addcb3b3129",
   "metadata": {},
   "outputs": [],
   "source": [
    "def calc_pi(total_num_points): \n",
    "    np.random.seed(1234)\n",
    "    \n",
    "    num_circle_points = 0\n",
    "    \n",
    "    for i in range(total_num_points):\n",
    "        x = np.random.random()\n",
    "        y = np.random.random()\n",
    "        radius_squared = np.power(x,2) + np.power(y,2)\n",
    "        \n",
    "        if radius_squared < 1:\n",
    "            num_circle_points += 1\n",
    "           \n",
    "    pi_estimate = 4 * num_circle_points / total_num_points\n",
    "    return pi_estimate"
   ]
  },
  {
   "cell_type": "code",
   "execution_count": null,
   "id": "cb5a7a0b-ddff-41fd-ba60-a3df3bc77f9a",
   "metadata": {},
   "outputs": [],
   "source": [
    "@jit\n",
    "def calc_pi_faster(total_num_points): \n",
    "    np.random.seed(1234)\n",
    "    \n",
    "    num_circle_points = 0\n",
    "    \n",
    "    for i in range(total_num_points):\n",
    "        x = np.random.random()\n",
    "        y = np.random.random()\n",
    "        radius_squared = np.power(x,2) + np.power(y,2)\n",
    "        \n",
    "        if radius_squared < 1:\n",
    "            num_circle_points += 1\n",
    "           \n",
    "    pi_estimate = 4 * num_circle_points / total_num_points\n",
    "    return pi_estimate"
   ]
  },
  {
   "cell_type": "markdown",
   "id": "d3b6fb28-3572-4c22-a233-22f3549c8cf4",
   "metadata": {},
   "source": [
    "The function ```calc_pi_faster``` is compiled to machine code when called for \n",
    "the first time."
   ]
  },
  {
   "cell_type": "code",
   "execution_count": null,
   "id": "6ad0a581-861a-4db9-97ed-ae9652f0591b",
   "metadata": {},
   "outputs": [],
   "source": [
    "total_num_points = 100000\n",
    "\n",
    "print(f\"calc_pi: {calc_pi(total_num_points)}\")\n",
    "print(f\"calc_pi_faster: {calc_pi_faster(total_num_points)}\")"
   ]
  },
  {
   "cell_type": "code",
   "execution_count": null,
   "id": "9bcce31c-43b2-464c-a390-7f917bbce925",
   "metadata": {},
   "outputs": [],
   "source": [
    "%timeit calc_pi(total_num_points)"
   ]
  },
  {
   "cell_type": "code",
   "execution_count": null,
   "id": "8c1ca925-c3b8-4aa6-a5ec-1b7e3947dd55",
   "metadata": {},
   "outputs": [],
   "source": [
    "%timeit calc_pi_faster(total_num_points)"
   ]
  },
  {
   "cell_type": "markdown",
   "id": "8f62d6c0-081a-4252-9406-c6fe3dceb50a",
   "metadata": {},
   "source": [
    "#### Note\n",
    "that Jupyter (IPython) provides some built-in Python functionality through \n",
    "*magic commands* ```%command```."
   ]
  },
  {
   "cell_type": "markdown",
   "id": "ddbec491-d260-463b-bebc-71bcd332ec2f",
   "metadata": {
    "tags": []
   },
   "source": [
    "***\n",
    "\n",
    "## Exercise Section\n",
    "\n",
    "Generators are very useful when loading datasets, for instance. Suppose your dataset is too large to load into memory (RAM)\n",
    "(e.g. several tens of GB). Typically, a possible approach is to load parts of the dataset during training as needed. \n",
    "\n",
    "In this exercise, we implement a generator to load *batches* of images from the **MNIST dataset**. MNIST is a standard Deep Learning \n",
    "benchmark dataset comprising 70 000 images (usually 28 x 28 pixels) of hand-written digits with the corresponding label as the \n",
    "classification target. \n",
    "\n",
    "<center><img src=\"images/MNIST_example.png\" alt=\"MNIST Example\" width=\"500\"/></center>\n",
    "\n",
    "You can load the dataset (reduced to 5 000 samples) in the next cell."
   ]
  },
  {
   "cell_type": "code",
   "execution_count": null,
   "id": "30904943-a4cb-42f4-a995-b02c15aab99f",
   "metadata": {},
   "outputs": [],
   "source": [
    "import numpy as np\n",
    "\n",
    "mnist_data = np.load('data/mnist_data_5k.npy', mmap_mode='r', allow_pickle=True)\n",
    "mnist_targets = np.load('data/mnist_labels_5k.npy', mmap_mode='r', allow_pickle=True)"
   ]
  },
  {
   "cell_type": "markdown",
   "id": "4f4eb350-3a7a-4a03-8663-c4128da847e4",
   "metadata": {},
   "source": [
    "Note that ```mmap_mode='r'``` specifies that we do not load data into memory but instead a memory-mapped array is constructed.\n",
    "This means, the data is read from the disk whenever accessed. Note that\n",
    "\n",
    "```Python\n",
    "    In[1]:  mnist_data = np.load('data/mnist_data_5k.npy', mmap_mode='r')\n",
    "    In[2]:  type(mnist_data)\n",
    "    Out[2]: numpy.memmap\n",
    "```\n",
    "\n",
    "provides a ```memmap``` object, while \n",
    "\n",
    "```Python\n",
    "    In[1]:  mnist_data = np.load('data/mnist_data_5k.npy')\n",
    "    In[2]:  type(mnist_data)\n",
    "    Out[2]: numpy.ndarray\n",
    "```\n",
    "\n",
    "provides the standard NumPy array. These are two different types of objects. ```memmap``` lives still on the disk,\n",
    "while the NumPy array is loaded into RAM. Note that in a ```memmap``` many but not all NumPy operations will work.\n",
    "\n",
    "(1.) Define a generator which allows passing the data, targets, and the size of the batch in the following cell. \n",
    "For e.g. ```batch_size=10```, the generator shall slice both arrays into the first 10 samples and provide them with \n",
    "the ```next``` call. With every following call, the next 10 samples are provided. So you need to think about how to\n",
    "access a slice of data in NumPy arrays and how consecutively get the next slice with the next call by adjustind the indices."
   ]
  },
  {
   "cell_type": "code",
   "execution_count": null,
   "id": "18c507d6-27a5-49cf-bb5d-bcadf5267e82",
   "metadata": {},
   "outputs": [],
   "source": [
    "def batch_data(data, targets, batch_size):\n",
    "    # fill in"
   ]
  },
  {
   "cell_type": "markdown",
   "id": "bb02c71a-e155-4fd1-b57a-2674a1c59483",
   "metadata": {},
   "source": [
    "If you were successful, you can create the generator with"
   ]
  },
  {
   "cell_type": "code",
   "execution_count": null,
   "id": "138d7d05-f546-471f-a881-9bfcfc1f9541",
   "metadata": {},
   "outputs": [],
   "source": [
    "mnist_gen = batch_data(data=mnist_data, targets=mnist_targets, batch_size=10)"
   ]
  },
  {
   "cell_type": "markdown",
   "id": "27a8d249-bdc2-4105-af0e-7da3591b166a",
   "metadata": {},
   "source": [
    "and retrieve a (new) batch of data with"
   ]
  },
  {
   "cell_type": "code",
   "execution_count": null,
   "id": "6ed86c58-6342-455e-9a48-7ebcf432106e",
   "metadata": {
    "tags": []
   },
   "outputs": [],
   "source": [
    "new_data, new_targets = next(mnist_gen)\n",
    "\n",
    "print(f\"Target labels in this batch: {new_targets}\")"
   ]
  }
 ],
 "metadata": {
  "kernelspec": {
   "display_name": "Python 3 (ipykernel)",
   "language": "python",
   "name": "python3"
  },
  "language_info": {
   "codemirror_mode": {
    "name": "ipython",
    "version": 3
   },
   "file_extension": ".py",
   "mimetype": "text/x-python",
   "name": "python",
   "nbconvert_exporter": "python",
   "pygments_lexer": "ipython3",
   "version": "3.10.9"
  }
 },
 "nbformat": 4,
 "nbformat_minor": 5
}
