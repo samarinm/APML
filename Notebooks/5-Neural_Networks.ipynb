{
 "cells": [
  {
   "cell_type": "markdown",
   "id": "233ab466-39a1-4979-add4-d34effd5ced4",
   "metadata": {},
   "source": [
    "# 5. Neural Networks\n",
    "\n",
    "In the previous notebook, we have seen that we can choose feature mappings $\\phi$ or kernels $\\kappa$\n",
    "to design powerful non-linear models. Informally, deep learning can be characterised as trying to\n",
    "learn the feature mapping $\\phi$ from data.\n",
    "\n",
    "In this notebook we will discuss and implement our first\n",
    "\n",
    "* feed-forward neural network / multi-layer perceptron and\n",
    "* convolutional neural network\n",
    "\n",
    "for the MNIST and wine quality classification task.\n",
    "\n",
    "Keywords: ```Gradient descent```, ```Cross-entropy loss```, ```ReLU```, ```One-hot encoding```, \n",
    "```Max pooling```, ```Convolution```, ```keras.layers```, ```model.compile```, ```model.fit```, ```model.evaluate```,  ```model.save```, ```model.summary```, ```models.load_model```, ```keras.optimizers.SGD```\n",
    "\n",
    "***\n",
    "\n",
    "## Neural Network Basics\n",
    "\n",
    "We start with the classical **Feed-Forward Neural Networks (FFNNs)** which are also referred to as multi-layer \n",
    "perceptrons (MLPs). FFNNs were originally proposed as a computational model \n",
    "simulating mechanisms of the human brain. The general idea is that inputs\n",
    "are processed in a sequential manner by **artificial neurons**. The common architecture consists of an\n",
    "input layer, one to several hidden layers, and an output layer as illustrated in the following \n",
    "figure. \n",
    "\n",
    "<center><img src=\"images/NN_idea.png\" alt=\"Neural Network Illustration\" width=\"450\"/></center>\n",
    "\n",
    "As before, we try to learn the function $f(X)$. The displayed three-layer FFNN **parameterises** this\n",
    "function in the following way\n",
    "\n",
    "\\begin{equation}\n",
    "    f(X,W) =  \\sigma \\big( \\sigma (X W_1 ) W_2 \\big) W_3 = \\phi (X,W_1,W_2) W_3, \n",
    "\\end{equation}\n",
    "\n",
    "where weights $W = (W_1, W_2, W_3)$ are the matrices which we multiply layer-wise to the output of the\n",
    "previous layer. The outputs are called **activations**. An important part of why neural networks \n",
    "are so powerful is the use of **non-linear activation functions**. The \n",
    "**rectified linear unit (ReLU)** $\\sigma (z) = \\max \\{0, z \\}$ is a particularly popular choice,\n",
    "e.g. $\\sigma (z=-2) = 0$ and $\\sigma (z=2) = 2$, with $z$ being the preactivation.\n",
    "\n",
    "<center><img src=\"images/ReLU.png\" alt=\"ReLU\" width=\"250\"/></center>\n",
    "\n",
    "We can make a connection between neural networks and what we have seen before. Let's consider\n",
    "a deeper $L$-layer FFNN. In the regression setting, our goal is again to find a model for\n",
    "\n",
    "\\begin{equation}\n",
    "    Y = f(X,W) + \\epsilon = \\phi(X,W_1, \\dots, W_{L-1} ) W_L + \\epsilon\n",
    "\\end{equation}\n",
    "\n",
    "where this time $\\phi$ is learned! We calibrate our model to solve the task \n",
    "by using **(Stochastic) Gradient Descent** for updating the weights $W = (W_1,\\dots, W_L)$:\n",
    "\n",
    "\\begin{equation}\n",
    "    W^{(t+1)} = W^{(t)} - \\eta \\nabla \\text{Loss}(W^{(t)}).\n",
    "\\end{equation}\n",
    "\n",
    "As illustrated in the figure below, the idea is to start at some position of our loss\n",
    "landscape described by initially random weights $W^{(t=0)}$ drawn from a Gaussian distribution.\n",
    "With every update step, we approach a (local) minimum until the weights no longer change.\n",
    "Note that this requires an appropriate choice of the step size or **learning rate** $\\eta$ (which\n",
    "again is a hyperparameter like $\\lambda$ and $k$ which we've seen before).\n",
    "\n",
    "<center><img src=\"images/Gradient_Descent.png\" alt=\"Gradient Descent\" width=\"350\"/></center>\n",
    "\n",
    "As before, we can use the mean-squared error loss for regression tasks\n",
    "\n",
    "\\begin{equation}\n",
    "    \\text{Loss}(W) = \\frac{1}{2N} \\lVert Y - f(X,W) \\rVert_2^2 = \\frac{1}{2N} \\sum_{n=1}^{N} \\big( y_n -  f(x_n,W) \\big)^2.\n",
    "\\end{equation}\n",
    "\n",
    "In the classification setting, we use the multi-class version of the logistic loss encountered\n",
    "earlier. In deep learning context, we usually call it the **cross-entropy loss**\n",
    "\n",
    "\\begin{equation}\n",
    "    \\text{Loss}(W) = - \\sum_{n=1}^{N} \\sum_{c=1}^{C} y_{n,c} \\log p_{n,c} = - \\sum_{n=1}^{N} \\sum_{c=1}^{C} y_{n,c} \\log f_c (x_n,W),\n",
    "\\end{equation}\n",
    "\n",
    "where we consider $C$ different classes our $N$ datapoints belong to. The neural network provides \n",
    "in the output layer the probabilities for the different classes $p_{n,c}=f_c (x_n,W)$. For this, we use\n",
    "another kind of activation function known as the **softmax activation function** which maps the activation\n",
    "to the values between 0 and 1. The activation $\\sigma(z)_i$\n",
    "at output neuron $i$ is given by\n",
    "\n",
    "\\begin{equation}\n",
    "    \\sigma(z)_i = \\frac{\\exp(z_i)}{\\sum_{j=1}^{C} \\exp (z_j)},\n",
    "\\end{equation}\n",
    "\n",
    "where $C$ is the number of neurons in the output layer, i.e. the number of classes, and $i,j\\in {1,\\dots,C}$.\n",
    "Typically, we change the class labels into a **one-hot encoding** which provides something like a class probability associated with the label. Suppose our datapoint $x_n$ shows the digit 9 and the corresponding\n",
    "target is $y_n=9$. In the one-hot encoding we replace $y_n$ with the vector\n",
    "\n",
    "\\begin{equation}\n",
    "    y_{n} = \\begin{pmatrix} y_{n,0} \\\\ y_{n,1} \\\\ \\vdots \\\\ y_{n,9} \\end{pmatrix} = \\begin{pmatrix} 0 \\\\ 0 \\\\ \\vdots \\\\ 1 \\end{pmatrix},\n",
    "\\end{equation}\n",
    "\n",
    "where we have 0s at every index but the class index, i.e. 9 in this case.\n",
    "\n",
    "Let's use all this to build an FFNN for classifying MNIST digits!"
   ]
  },
  {
   "cell_type": "code",
   "execution_count": 1,
   "id": "a526f956-c910-4fbf-8ada-7ce3ed5386fd",
   "metadata": {
    "tags": []
   },
   "outputs": [
    {
     "name": "stderr",
     "output_type": "stream",
     "text": [
      "2024-05-06 11:07:38.448809: I tensorflow/core/platform/cpu_feature_guard.cc:182] This TensorFlow binary is optimized to use available CPU instructions in performance-critical operations.\n",
      "To enable the following instructions: SSE4.1 SSE4.2, in other operations, rebuild TensorFlow with the appropriate compiler flags.\n"
     ]
    }
   ],
   "source": [
    "import numpy as np\n",
    "from tensorflow import keras\n",
    "\n",
    "mnist_data = np.load('data/mnist_data_5k.npy', allow_pickle=True)\n",
    "mnist_targets = np.load('data/mnist_labels_5k.npy', allow_pickle=True)"
   ]
  },
  {
   "cell_type": "markdown",
   "id": "6a4b016a-00f4-4f22-9951-2c7444614f4f",
   "metadata": {},
   "source": [
    "In the following, we normalise the vector of pixel values to \n",
    "the $[0,1]$ interval. It is typically advisable to scale all your\n",
    "predictors in $X$ (i.e. the columns) such that values range between 0 and 1.\n",
    "Furthermore, we split the data into training, validation, and test datasets."
   ]
  },
  {
   "cell_type": "code",
   "execution_count": 2,
   "id": "e563e268-b49c-4233-9504-1749faa62a20",
   "metadata": {
    "tags": []
   },
   "outputs": [],
   "source": [
    "mnist_data_flat = mnist_data.reshape(-1, 784, 1) / 255\n",
    "\n",
    "num_train = 3000\n",
    "num_val = 1000\n",
    "num_test = 1000\n",
    "\n",
    "x_train = mnist_data_flat[:num_train]\n",
    "y_train = mnist_targets[:num_train]\n",
    "\n",
    "x_val = mnist_data_flat[num_train:num_train+num_val]\n",
    "y_val = mnist_targets[num_train:num_train+num_val]\n",
    "\n",
    "x_test = mnist_data_flat[-num_test:]\n",
    "y_test = mnist_targets[-num_test:]"
   ]
  },
  {
   "cell_type": "markdown",
   "id": "e63abf8d-7fd2-4930-a39a-349e2531bf83",
   "metadata": {},
   "source": [
    "Now, we define a three-layer FFNN with the following layers sizes:\n",
    "\n",
    "* 784 neurons in the input layer\n",
    "* 1024 (hidden) neurons in the first hidden layer with ReLU activation\n",
    "* 512 (hidden) neurons in the second hidden layer with ReLU activation\n",
    "* 10 output neurons for our classes in the output layer with a softmax activation"
   ]
  },
  {
   "cell_type": "code",
   "execution_count": 3,
   "id": "5476fedc-2133-4b68-9441-257757c0ed2c",
   "metadata": {
    "tags": []
   },
   "outputs": [],
   "source": [
    "ffnn = keras.Sequential([\n",
    "    keras.layers.InputLayer(input_shape=(784,)),\n",
    "    keras.layers.Dense(units=1024, activation='relu'),\n",
    "    keras.layers.Dense(units=512, activation='relu'),\n",
    "    keras.layers.Dense(units=10, activation='softmax')\n",
    "    ], name='FFNN_example')    "
   ]
  },
  {
   "cell_type": "markdown",
   "id": "3f8801e2-9d2e-46ab-8ba7-1a01dbd3ef20",
   "metadata": {},
   "source": [
    "Next, we specify hyperparameters. As outlined before, the **learning rate** $\\eta$\n",
    "is an important hyperparameter. In addition, we typically cannot (but also do not want to) \n",
    "use all datapoints for training at the same time. We choose small batches of the dataset\n",
    "and thus need to specify the **batch size**."
   ]
  },
  {
   "cell_type": "code",
   "execution_count": 4,
   "id": "5f0e8e8f-2153-48a6-ad5f-ee341134377e",
   "metadata": {
    "tags": []
   },
   "outputs": [
    {
     "name": "stdout",
     "output_type": "stream",
     "text": [
      "Shape of training set: (3000, 784, 1)\n",
      "Number of batches: 187.5\n"
     ]
    }
   ],
   "source": [
    "learning_rate = 0.01\n",
    "batch_size = 16\n",
    "num_epochs = 10\n",
    "\n",
    "print(f\"Shape of training set: {x_train.shape}\")\n",
    "print(f\"Number of batches: {x_train.shape[0] / batch_size}\")"
   ]
  },
  {
   "cell_type": "markdown",
   "id": "fb1c0f24-3fd8-4e34-b20d-ad38d2e93d24",
   "metadata": {},
   "source": [
    "A training **epoch** is concluded after we have seen the total number of batches.\n",
    "We set multiple epochs to iteratively refine the neural network weights, i.e. training\n",
    "samples are seen several times during training.\n",
    "\n",
    "Now, let's define our optimisation method where we use [Stochastic Gradient Descent](https://keras.io/api/optimizers/sgd/)."
   ]
  },
  {
   "cell_type": "code",
   "execution_count": 5,
   "id": "c14787b6-7bad-49d3-9a8f-03ec7c1ed8f0",
   "metadata": {
    "tags": []
   },
   "outputs": [],
   "source": [
    "keras.utils.set_random_seed(123)\n",
    "\n",
    "ffnn.compile(optimizer=keras.optimizers.SGD(learning_rate=learning_rate),\n",
    "             loss='sparse_categorical_crossentropy',\n",
    "             metrics=['accuracy'])"
   ]
  },
  {
   "cell_type": "markdown",
   "id": "418b67da-e19d-47c0-986c-d9c28c4262d9",
   "metadata": {},
   "source": [
    "We use as the loss the ```sparse_categorical_crossentropy``` where\n",
    "\n",
    "* *categorical* means that the neural network outputs are expected to be softmax values between 0 and 1\n",
    "* *sparse* indicates that we have did not one-hot encode our y-targets; the loss will take care of that"
   ]
  },
  {
   "cell_type": "code",
   "execution_count": 6,
   "id": "0e83222c-8fe5-4277-9abc-5b2ca569ea6b",
   "metadata": {},
   "outputs": [
    {
     "name": "stdout",
     "output_type": "stream",
     "text": [
      "[5 0 4 ... 9 1 5]\n"
     ]
    }
   ],
   "source": [
    "print(y_train)"
   ]
  },
  {
   "cell_type": "markdown",
   "id": "ddbc3dcf-aecf-47f3-847d-abe9c84a0754",
   "metadata": {},
   "source": [
    "We can now use the methods [fit](https://keras.io/api/models/model_training_apis/#fit-method) and [evaluate](https://keras.io/api/models/model_training_apis/#evaluate-method) to train our FFNN\n",
    "and evaluate it on the test set."
   ]
  },
  {
   "cell_type": "code",
   "execution_count": 7,
   "id": "aca4892a-cac1-4f50-bfe6-1618d18de32d",
   "metadata": {
    "tags": []
   },
   "outputs": [
    {
     "name": "stdout",
     "output_type": "stream",
     "text": [
      "Epoch 1/10\n",
      "188/188 [==============================] - 1s 4ms/step - loss: 1.5407 - accuracy: 0.6550 - val_loss: 0.9616 - val_accuracy: 0.8200\n",
      "Epoch 2/10\n",
      "188/188 [==============================] - 0s 3ms/step - loss: 0.6911 - accuracy: 0.8517 - val_loss: 0.6014 - val_accuracy: 0.8680\n",
      "Epoch 3/10\n",
      "188/188 [==============================] - 0s 2ms/step - loss: 0.4792 - accuracy: 0.8840 - val_loss: 0.4681 - val_accuracy: 0.8890\n",
      "Epoch 4/10\n",
      "188/188 [==============================] - 1s 3ms/step - loss: 0.3894 - accuracy: 0.8980 - val_loss: 0.4130 - val_accuracy: 0.8950\n",
      "Epoch 5/10\n",
      "188/188 [==============================] - 1s 3ms/step - loss: 0.3391 - accuracy: 0.9117 - val_loss: 0.3648 - val_accuracy: 0.9170\n",
      "Epoch 6/10\n",
      "188/188 [==============================] - 1s 3ms/step - loss: 0.3028 - accuracy: 0.9213 - val_loss: 0.3514 - val_accuracy: 0.9110\n",
      "Epoch 7/10\n",
      "188/188 [==============================] - 1s 3ms/step - loss: 0.2741 - accuracy: 0.9287 - val_loss: 0.3385 - val_accuracy: 0.9070\n",
      "Epoch 8/10\n",
      "188/188 [==============================] - 1s 3ms/step - loss: 0.2505 - accuracy: 0.9363 - val_loss: 0.3077 - val_accuracy: 0.9140\n",
      "Epoch 9/10\n",
      "188/188 [==============================] - 0s 3ms/step - loss: 0.2318 - accuracy: 0.9390 - val_loss: 0.3056 - val_accuracy: 0.9090\n",
      "Epoch 10/10\n",
      "188/188 [==============================] - 0s 2ms/step - loss: 0.2139 - accuracy: 0.9463 - val_loss: 0.2919 - val_accuracy: 0.9210\n",
      "\n",
      "Test accuracy: 0.9070\n"
     ]
    }
   ],
   "source": [
    "ffnn_history = ffnn.fit(x=x_train, y=y_train, batch_size=batch_size, \n",
    "                        validation_data=(x_val, y_val), epochs=num_epochs)\n",
    "\n",
    "test_loss, test_acc = ffnn.evaluate(x_test, y_test, verbose=0)\n",
    "\n",
    "print(f'\\nTest accuracy: {test_acc:.4f}')\n",
    "\n",
    "ffnn.save('output/MNIST_FFNN.h5')"
   ]
  },
  {
   "cell_type": "markdown",
   "id": "19deeebc-3ecc-489b-9ff0-582367904229",
   "metadata": {},
   "source": [
    "We can summarise the network parameters:"
   ]
  },
  {
   "cell_type": "code",
   "execution_count": 8,
   "id": "4586affc-cdec-406f-9ffe-e5bbbc0ffa2e",
   "metadata": {
    "tags": []
   },
   "outputs": [
    {
     "name": "stdout",
     "output_type": "stream",
     "text": [
      "Model: \"FFNN_example\"\n",
      "_________________________________________________________________\n",
      " Layer (type)                Output Shape              Param #   \n",
      "=================================================================\n",
      " dense (Dense)               (None, 1024)              803840    \n",
      "                                                                 \n",
      " dense_1 (Dense)             (None, 512)               524800    \n",
      "                                                                 \n",
      " dense_2 (Dense)             (None, 10)                5130      \n",
      "                                                                 \n",
      "=================================================================\n",
      "Total params: 1,333,770\n",
      "Trainable params: 1,333,770\n",
      "Non-trainable params: 0\n",
      "_________________________________________________________________\n"
     ]
    }
   ],
   "source": [
    "ffnn.summary()"
   ]
  },
  {
   "cell_type": "markdown",
   "id": "1688aa7f-91f9-4ac4-9e0e-ad40b8c00d8f",
   "metadata": {},
   "source": [
    "Let's see how the accuracy and loss developped over training making\n",
    "use of the ```ffnn_history``` object we assigned after training."
   ]
  },
  {
   "cell_type": "code",
   "execution_count": 9,
   "id": "a78c536f-4532-4832-b9fe-5452943d70d5",
   "metadata": {
    "tags": []
   },
   "outputs": [
    {
     "data": {
      "image/png": "[encoded data removed]",
      "text/plain": [
       "<Figure size 900x300 with 2 Axes>"
      ]
     },
     "metadata": {},
     "output_type": "display_data"
    }
   ],
   "source": [
    "import matplotlib.pyplot as plt\n",
    "\n",
    "fig, axs = plt.subplots(1,2, figsize=(9,3))\n",
    "\n",
    "axs[0].plot(ffnn_history.history['accuracy'], label='Training')\n",
    "axs[0].plot(ffnn_history.history['val_accuracy'], label='Validation')\n",
    "axs[0].set_title('Accuracy')\n",
    "axs[0].legend()\n",
    "\n",
    "axs[1].plot(ffnn_history.history['loss'])\n",
    "axs[1].plot(ffnn_history.history['val_loss'])\n",
    "axs[1].set_title('Loss')\n",
    "\n",
    "plt.show()"
   ]
  },
  {
   "cell_type": "markdown",
   "id": "6a628169-34d0-4663-bf30-8b7defb34b8e",
   "metadata": {},
   "source": [
    "We use the [predict](https://keras.io/api/models/model_training_apis/#predict-method)\n",
    "method to provide predictions to new data. You can use the model you just trained or you\n",
    "can load a previously **pretrained** model."
   ]
  },
  {
   "cell_type": "code",
   "execution_count": 10,
   "id": "0f960da9-bb29-402d-9eb3-6b9170cd9921",
   "metadata": {
    "tags": []
   },
   "outputs": [
    {
     "name": "stdout",
     "output_type": "stream",
     "text": [
      "Test accuracy: 0.9260\n",
      "\n",
      "Shape of the predictions: (1000, 10)\n",
      "\n",
      "First prediction: ['0.00000', '0.00000', '0.00004', '0.00043', '0.00000', '0.00000', '0.00000', '0.99954', '0.00000', '0.00000']\n",
      "\n",
      "First class prediction: 7\n"
     ]
    }
   ],
   "source": [
    "# Our pretrained model (100 epochs):\n",
    "ffnn = keras.models.load_model('output/MNIST_FFNN_pretrained.h5')\n",
    "\n",
    "# ... or load the model you trained yourself:\n",
    "# ffnn = keras.models.load_model('output/MNIST_FFNN.h5')\n",
    "\n",
    "test_loss, test_acc = ffnn.evaluate(x_test, y_test, verbose=0)\n",
    "\n",
    "print(f'Test accuracy: {test_acc:.4f}\\n')\n",
    "\n",
    "num_examples = 10\n",
    "\n",
    "predictions_1hot = ffnn.predict(x_test, verbose=0)\n",
    "\n",
    "# print(predictions_1hot[0])\n",
    "\n",
    "nicer_predictions_1hot_0 = list(map(np.format_float_positional, predictions_1hot[0], [5]*10))\n",
    "\n",
    "print(f\"Shape of the predictions: {predictions_1hot.shape}\\n\")\n",
    "print(f\"First prediction: {nicer_predictions_1hot_0}\\n\")\n",
    "\n",
    "predictions = np.argmax(predictions_1hot, axis=1)\n",
    "\n",
    "print(f\"First class prediction: {predictions[0]}\")"
   ]
  },
  {
   "cell_type": "markdown",
   "id": "904c2d97-c0d1-4bcc-aa05-b7fae3679410",
   "metadata": {},
   "source": [
    "Note that the neural network outputs vectors with class probabilities.\n",
    "We choose the class with the highest probability.\n",
    "\n",
    "Let's plot some of the predicted labels."
   ]
  },
  {
   "cell_type": "code",
   "execution_count": 11,
   "id": "0ebe02c5-1114-470f-b942-4471883ba5f2",
   "metadata": {
    "tags": []
   },
   "outputs": [
    {
     "data": {
      "image/png": "[encoded data removed]",
      "text/plain": [
       "<Figure size 1000x500 with 10 Axes>"
      ]
     },
     "metadata": {},
     "output_type": "display_data"
    }
   ],
   "source": [
    "fig, axs = plt.subplots(1,num_examples, figsize=(num_examples,5))\n",
    "\n",
    "start_index = 900\n",
    "\n",
    "for i, ax in enumerate(axs.ravel()):\n",
    "    ax.imshow(x_test[start_index+i].reshape(28,28))    \n",
    "    \n",
    "    ax.set_xticks([])\n",
    "    ax.set_yticks([])\n",
    "    ax.set_title(f\"Target: {y_test[start_index+i]}\\nPred: {predictions[start_index+i]}\", \n",
    "                 fontsize=10)\n",
    "\n",
    "plt.show()"
   ]
  },
  {
   "cell_type": "markdown",
   "id": "2495b54f-88c6-4b5a-be24-5746f01ab8aa",
   "metadata": {},
   "source": [
    "***\n",
    "\n",
    "## Convolutional Neural Networks\n",
    "\n",
    "An important class of neural network architectures are **convolutional neural networks (CNNs)**. CNNs are\n",
    "inspired by biological models for the primary visual cortex and their resemblance to the mathemtical convolution \n",
    "operation. CNNs can be viewed as a particular kind of FFNNs where certain connections are missing and some\n",
    "neurons share the same weights. This gives rise to architectures as illustrated in the following figure.\n",
    "\n",
    "<center><img src=\"images/CNN_example.png\" alt=\"Convolutional Neural Network (LeNet-5)\" width=\"650\"/></center>\n",
    "\n",
    "CNNs are particularly suited to work with images and generally data **where some kind of local\n",
    "relationship / correlation** are present, e.g. adjacent pixels in an image or adjacent time steps in time series data. Two key components of CNNs are pooling and convolutional layers illustrated in the \n",
    "following.\n",
    "\n",
    "<center><img src=\"images/Max-pool_Conv.png\" alt=\"Max Pooling and Convolution Operator\" width=\"600\"/></center>\n",
    "\n",
    "**Convolutional layers** use a **convolutional filter** (sometimes called *kernel*, too) which processes the input images with respect to particular features (like edges) producing **feature maps**. Sequentially applying convolutional layers allow for **identifying increasingly complex features**. A typical size of a convolutional filter is $3 \\times 3$ which can be thought of as a matrix of weights (in red above) which are adjusted during training to identify features in a data-driven fashion.\n",
    "\n",
    "**Pooling layers** reduce the resolution of feature maps and don't have any associated weights. In particular, \n",
    "max pooling layers of size $2 \\times 2$ are used to identify the main activation in adjecent pixels.\n",
    "This allows objects to be in different positions in the image but still be recognised as the same object.\n",
    "\n",
    "Let's implement such a CNN and reshape the image vectors to actual images again."
   ]
  },
  {
   "cell_type": "code",
   "execution_count": 12,
   "id": "3a8e528c-9930-460e-ad56-bd6e77efd84d",
   "metadata": {
    "tags": []
   },
   "outputs": [],
   "source": [
    "mnist_data_image = mnist_data.reshape(-1, 28, 28, 1) / 255\n",
    "\n",
    "x_train = mnist_data_image[:num_train]\n",
    "x_val = mnist_data_image[num_train:num_train+num_val]\n",
    "x_test = mnist_data_image[-num_test:]"
   ]
  },
  {
   "cell_type": "markdown",
   "id": "deabf9f9-06fb-474c-90ea-8bc11cee305b",
   "metadata": {},
   "source": [
    "We define a CNN with the following layers and train as before:\n",
    "\n",
    "* 28 $ \\times $ 28 $ \\times $ 1 neurons in the input layer for the greyscale image\n",
    "* 6 conv. filters of size $3 \\times 3$ in the first hidden layer with ReLU activation followed by a $2 \\times 2$ max pooling\n",
    "* 16 conv. filters of size $3 \\times 3$ in the second hidden layer with ReLU activation followed by a $2 \\times 2$ max pooling\n",
    "* flatten these feature maps in a single vector \n",
    "* 1024 (hidden) neurons in the third hidden layer with ReLU activation\n",
    "* 512 (hidden) neurons in the fourth hidden layer with ReLU activation\n",
    "* 10 output neurons for our classes in the output layer with a softmax activation"
   ]
  },
  {
   "cell_type": "code",
   "execution_count": 13,
   "id": "dac9151a-1adf-4b2f-975a-d0fec9fbe99e",
   "metadata": {
    "tags": []
   },
   "outputs": [
    {
     "name": "stdout",
     "output_type": "stream",
     "text": [
      "Epoch 1/10\n",
      "188/188 [==============================] - 1s 5ms/step - loss: 2.0536 - accuracy: 0.4477 - val_loss: 1.3182 - val_accuracy: 0.6740\n",
      "Epoch 2/10\n",
      "188/188 [==============================] - 1s 5ms/step - loss: 0.7038 - accuracy: 0.8103 - val_loss: 0.6041 - val_accuracy: 0.8130\n",
      "Epoch 3/10\n",
      "188/188 [==============================] - 1s 4ms/step - loss: 0.4115 - accuracy: 0.8753 - val_loss: 0.3994 - val_accuracy: 0.8690\n",
      "Epoch 4/10\n",
      "188/188 [==============================] - 1s 4ms/step - loss: 0.3023 - accuracy: 0.9117 - val_loss: 0.3031 - val_accuracy: 0.8970\n",
      "Epoch 5/10\n",
      "188/188 [==============================] - 1s 4ms/step - loss: 0.2517 - accuracy: 0.9270 - val_loss: 0.2094 - val_accuracy: 0.9470\n",
      "Epoch 6/10\n",
      "188/188 [==============================] - 1s 5ms/step - loss: 0.2132 - accuracy: 0.9387 - val_loss: 0.2146 - val_accuracy: 0.9420\n",
      "Epoch 7/10\n",
      "188/188 [==============================] - 1s 5ms/step - loss: 0.1818 - accuracy: 0.9453 - val_loss: 0.2419 - val_accuracy: 0.9280\n",
      "Epoch 8/10\n",
      "188/188 [==============================] - 1s 5ms/step - loss: 0.1586 - accuracy: 0.9543 - val_loss: 0.1588 - val_accuracy: 0.9550\n",
      "Epoch 9/10\n",
      "188/188 [==============================] - 1s 4ms/step - loss: 0.1421 - accuracy: 0.9587 - val_loss: 0.1701 - val_accuracy: 0.9500\n",
      "Epoch 10/10\n",
      "188/188 [==============================] - 1s 5ms/step - loss: 0.1206 - accuracy: 0.9673 - val_loss: 0.1448 - val_accuracy: 0.9580\n",
      "\n",
      "Test accuracy: 0.9360\n",
      "\n",
      "Model: \"CNN_example\"\n",
      "_________________________________________________________________\n",
      " Layer (type)                Output Shape              Param #   \n",
      "=================================================================\n",
      " conv2d (Conv2D)             (None, 26, 26, 6)         60        \n",
      "                                                                 \n",
      " max_pooling2d (MaxPooling2D  (None, 13, 13, 6)        0         \n",
      " )                                                               \n",
      "                                                                 \n",
      " conv2d_1 (Conv2D)           (None, 11, 11, 16)        880       \n",
      "                                                                 \n",
      " max_pooling2d_1 (MaxPooling  (None, 5, 5, 16)         0         \n",
      " 2D)                                                             \n",
      "                                                                 \n",
      " flatten (Flatten)           (None, 400)               0         \n",
      "                                                                 \n",
      " dense_3 (Dense)             (None, 1024)              410624    \n",
      "                                                                 \n",
      " dense_4 (Dense)             (None, 512)               524800    \n",
      "                                                                 \n",
      " dense_5 (Dense)             (None, 10)                5130      \n",
      "                                                                 \n",
      "=================================================================\n",
      "Total params: 941,494\n",
      "Trainable params: 941,494\n",
      "Non-trainable params: 0\n",
      "_________________________________________________________________\n"
     ]
    }
   ],
   "source": [
    "keras.utils.set_random_seed(123)\n",
    "\n",
    "cnn = keras.Sequential([\n",
    "    keras.layers.InputLayer(input_shape=(28, 28, 1)),\n",
    "    keras.layers.Conv2D(filters=6, kernel_size=(3, 3), activation='relu'),\n",
    "    keras.layers.MaxPooling2D(pool_size=(2, 2)),\n",
    "    keras.layers.Conv2D(filters=16, kernel_size=(3, 3), activation='relu'),\n",
    "    keras.layers.MaxPooling2D(pool_size=(2, 2)),\n",
    "    keras.layers.Flatten(),\n",
    "    keras.layers.Dense(units=1024, activation='relu'),\n",
    "    keras.layers.Dense(units=512, activation='relu'),\n",
    "    keras.layers.Dense(units=10, activation='softmax')\n",
    "    ], name='CNN_example') \n",
    "\n",
    "cnn.compile(optimizer=keras.optimizers.SGD(learning_rate=learning_rate),\n",
    "              loss='sparse_categorical_crossentropy',\n",
    "              metrics=['accuracy'])\n",
    "\n",
    "cnn_history = cnn.fit(x=x_train, y=y_train, batch_size=batch_size, \n",
    "                      validation_data=(x_val, y_val), epochs=num_epochs)\n",
    "\n",
    "test_loss, test_acc = cnn.evaluate(x_test, y_test, verbose=0)\n",
    "\n",
    "print(f'\\nTest accuracy: {test_acc:.4f}\\n')\n",
    "\n",
    "cnn.save('output/MNIST_CNN.h5')\n",
    "\n",
    "cnn.summary()"
   ]
  },
  {
   "cell_type": "markdown",
   "id": "4f6fbe8c-e6a7-4611-9d35-89d0fb6f0153",
   "metadata": {},
   "source": [
    "Let's study the performance of the CNN."
   ]
  },
  {
   "cell_type": "code",
   "execution_count": 14,
   "id": "06304208-66af-4f3c-a2fd-71d8bf98fb2c",
   "metadata": {
    "tags": []
   },
   "outputs": [
    {
     "data": {
      "image/png": "[encoded data removed]",
      "text/plain": [
       "<Figure size 900x300 with 2 Axes>"
      ]
     },
     "metadata": {},
     "output_type": "display_data"
    },
    {
     "name": "stdout",
     "output_type": "stream",
     "text": [
      "Test accuracy: 0.9360\n",
      "\n"
     ]
    },
    {
     "data": {
      "image/png": "[encoded data removed]",
      "text/plain": [
       "<Figure size 1000x500 with 10 Axes>"
      ]
     },
     "metadata": {},
     "output_type": "display_data"
    }
   ],
   "source": [
    "import matplotlib.pyplot as plt\n",
    "\n",
    "fig, axs = plt.subplots(1,2, figsize=(9,3))\n",
    "\n",
    "axs[0].plot(cnn_history.history['accuracy'], label='Training')\n",
    "axs[0].plot(cnn_history.history['val_accuracy'], label='Validation')\n",
    "axs[0].set_title('Accuracy')\n",
    "axs[0].legend()\n",
    "\n",
    "axs[1].plot(cnn_history.history['loss'])\n",
    "axs[1].plot(cnn_history.history['val_loss'])\n",
    "axs[1].set_title('Loss')\n",
    "\n",
    "plt.show()\n",
    "\n",
    "# Our pretrained model (100 epochs):\n",
    "# cnn = keras.models.load_model('output/MNIST_CNN_pretrained.h5')\n",
    "\n",
    "# ... or load your model:\n",
    "cnn = keras.models.load_model('output/MNIST_CNN.h5')\n",
    "\n",
    "test_loss, test_acc = cnn.evaluate(x_test, y_test, verbose=0)\n",
    "\n",
    "print(f'Test accuracy: {test_acc:.4f}\\n')\n",
    "\n",
    "num_examples = 10\n",
    "\n",
    "predictions_1hot = cnn.predict(x_test, verbose=0)\n",
    "predictions = np.argmax(predictions_1hot, axis=1)\n",
    "\n",
    "fig, axs = plt.subplots(1, num_examples, figsize=(num_examples,5))\n",
    "\n",
    "start_index = 900\n",
    "\n",
    "for i, ax in enumerate(axs.ravel()):\n",
    "    ax.imshow(x_test[start_index+i])    \n",
    "    \n",
    "    ax.set_xticks([])\n",
    "    ax.set_yticks([])\n",
    "    ax.set_title(f\"Target: {y_test[start_index+i]}\\nPred: {predictions[start_index+i]}\", \n",
    "                 fontsize=10)\n",
    "\n",
    "plt.show()"
   ]
  },
  {
   "attachments": {},
   "cell_type": "markdown",
   "id": "7dd3fa34-70e6-4146-9674-e8ae8b9ca5dc",
   "metadata": {
    "tags": []
   },
   "source": [
    "### How to tune hyperparameters? \n",
    "\n",
    "As mentioned in [Notebook 2](2-Regression_and_Classification.ipynb),\n",
    "neural network performance is sensitive to the hyperparameter choice. Again, there \n",
    "are tools to perform hyperparameter search in a more automated manner like:\n",
    "\n",
    "1. TensorFlow / Keras: [Keras Tuner](https://www.tensorflow.org/tutorials/keras/keras_tuner)\n",
    "2. PyTorch: [Optuna](https://optuna.org/#code_examples)\n",
    "\n",
    "***\n",
    "\n",
    "## Exercise Section\n",
    "\n",
    "For a last time, we consider the red wine dataset with our new regression method.\n",
    "As before, we want to predict the ```quality``` values on the test set ```feat_test``` \n",
    "and compare it to the previous results:\n",
    "\n",
    "* ridge regression MSE 0.42 \n",
    "* Random Forest regression MSE 0.34\n",
    "* kernel ridge regression MSE 0.38 \n",
    "* Gaussian Process regression MSE 0.38\n",
    "\n",
    "Prepare the data by load the following cell:"
   ]
  },
  {
   "cell_type": "code",
   "execution_count": null,
   "id": "4fd08845-41fc-4f23-9211-e70a152a28b0",
   "metadata": {
    "tags": []
   },
   "outputs": [],
   "source": [
    "import numpy as np\n",
    "import pandas as pd\n",
    "import matplotlib.pyplot as plt\n",
    "\n",
    "from sklearn.model_selection import train_test_split\n",
    "\n",
    "from tensorflow import keras\n",
    "\n",
    "np.random.seed(123)\n",
    "keras.utils.set_random_seed(123)\n",
    "\n",
    "wine_data = pd.read_csv('data/winequality-red.csv', sep=';')\n",
    "\n",
    "ex_target = wine_data['quality']\n",
    "ex_features = wine_data.drop(['quality'], axis=1)\n",
    "\n",
    "ex_features = (ex_features - ex_features.min()) / (ex_features.max() - ex_features.min())  \n",
    "\n",
    "feat_train, feat_test, target_train, target_test = train_test_split(\n",
    "    ex_features, ex_target, test_size = 0.3, random_state=123)\n",
    "\n",
    "target_test = target_test.to_frame()"
   ]
  },
  {
   "cell_type": "markdown",
   "id": "0291751b-282c-45fe-a415-093525f5c0f4",
   "metadata": {
    "tags": []
   },
   "source": [
    "(1.) Implement a feed-forward neural network with the following number \n",
    "of artificial neurons in the hidden layers: 1024, 512, 256, 128, 64. Use\n",
    "ReLU activations and the following hyperparameters:"
   ]
  },
  {
   "cell_type": "code",
   "execution_count": null,
   "id": "050bb249-71f8-4e1d-93a3-10739446c3d6",
   "metadata": {
    "tags": []
   },
   "outputs": [],
   "source": [
    "learning_rate = 0.005\n",
    "batch_size = 64\n",
    "num_epochs = 50"
   ]
  },
  {
   "cell_type": "markdown",
   "id": "d8dca764-2c41-404b-a726-fba785dfaa5f",
   "metadata": {},
   "source": [
    "Put your result in the following cell and note:\n",
    "\n",
    "* Provide the model as ```ffnn_reg```, the history of the training in ```ffnn_reg_history```, and the predicted quality values in ```ex_pred_ffnn```. \n",
    "* The output in the regression setting is just 1-dimensional and no activation is required. \n",
    "* Use as the MSE loss ```keras.losses.MeanSquaredError()``` and do not use the ```metrics``` argument.\n",
    "* You can use the test set for ```validation_data```. "
   ]
  },
  {
   "cell_type": "code",
   "execution_count": null,
   "id": "7c5785b8-7299-452d-9557-49409ad5db3d",
   "metadata": {
    "tags": []
   },
   "outputs": [],
   "source": [
    "# fill in"
   ]
  },
  {
   "cell_type": "markdown",
   "id": "b17a4463-f007-4cdf-9c62-2dac45a64c8e",
   "metadata": {},
   "source": [
    "Try to check the accuracy and loss during training with the following plot."
   ]
  },
  {
   "cell_type": "code",
   "execution_count": null,
   "id": "2da7d8bb-148b-430a-9443-1738630b1c63",
   "metadata": {},
   "outputs": [],
   "source": [
    "plt.plot(ffnn_reg_history.history['loss'][1:], label='Training')\n",
    "plt.plot(ffnn_reg_history.history['val_loss'][1:], label='Test')\n",
    "plt.title('Loss')\n",
    "plt.legend()\n",
    "\n",
    "plt.show()"
   ]
  },
  {
   "cell_type": "markdown",
   "id": "19b1af74-b695-4d37-b4d5-39b2d6b57e58",
   "metadata": {},
   "source": [
    "As we have done earlier, the following cell provides a \n",
    "data frame with an overview of the predictions."
   ]
  },
  {
   "cell_type": "code",
   "execution_count": 27,
   "id": "44c9e428-9ee6-4c3e-b6d5-bc616a9ee9b1",
   "metadata": {},
   "outputs": [
    {
     "name": "stdout",
     "output_type": "stream",
     "text": [
      "      quality  NN_predicted_quality  NN_absolut_deviation\n",
      "912         6                  6.49                  0.49\n",
      "772         5                  4.94                  0.06\n",
      "1037        5                  4.74                  0.26\n",
      "1106        6                  6.59                  0.59\n",
      "263         5                  5.40                  0.40\n",
      "...       ...                   ...                   ...\n",
      "1466        7                  5.59                  1.41\n",
      "580         5                  4.69                  0.31\n",
      "1082        6                  5.28                  0.72\n",
      "1279        7                  6.29                  0.71\n",
      "1155        5                  5.19                  0.19\n",
      "\n",
      "[480 rows x 3 columns]\n",
      "\n",
      "Mean squared error of Feedforward Neural Network regression: 0.37\n"
     ]
    }
   ],
   "source": [
    "target_test['NN_predicted_quality'] = np.around(ex_pred_ffnn, decimals=2)\n",
    "target_test['NN_absolut_deviation'] = np.around(abs(target_test['quality'] - target_test['NN_predicted_quality']), decimals=2)\n",
    "print(target_test)\n",
    "\n",
    "NN_pred_MSE = (target_test['NN_absolut_deviation']**2).mean()\n",
    "print(f\"\\nMean squared error of Feedforward Neural Network regression: {NN_pred_MSE:.2f}\")"
   ]
  },
  {
   "cell_type": "code",
   "execution_count": 33,
   "id": "50c14a63-c0fe-4445-9d23-816557190683",
   "metadata": {
    "tags": []
   },
   "outputs": [],
   "source": [
    "import numpy as np\n",
    "import pandas as pd\n",
    "import matplotlib.pyplot as plt\n",
    "\n",
    "from sklearn.model_selection import train_test_split\n",
    "\n",
    "from tensorflow import keras\n",
    "\n",
    "np.random.seed(123)\n",
    "keras.utils.set_random_seed(123)\n",
    "\n",
    "wine_data = pd.read_csv('data/winequality-red.csv', sep=';')\n",
    "\n",
    "ex_target = wine_data['quality']\n",
    "ex_features = wine_data.drop(['quality'], axis=1)\n",
    "\n",
    "ex_features = (ex_features - ex_features.min()) / (ex_features.max() - ex_features.min())  \n",
    "\n",
    "feat_train, feat_test, target_train, target_test = train_test_split(\n",
    "    ex_features, ex_target, test_size = 0.3, random_state=123)\n",
    "\n",
    "target_test = target_test.to_frame()"
   ]
  },
  {
   "cell_type": "markdown",
   "id": "c3444229-3445-4493-8123-0190a4236670",
   "metadata": {
    "tags": []
   },
   "source": [
    "(1.) Implement a feed-forward neural network with the following number \n",
    "of artificial neurons in the hidden layers: 1024, 512, 256, 128, 64. Use\n",
    "ReLU activations and the following hyperparameters:"
   ]
  },
  {
   "cell_type": "code",
   "execution_count": 34,
   "id": "3258ed47-8864-41a3-8e18-5127fb36165b",
   "metadata": {
    "tags": []
   },
   "outputs": [],
   "source": [
    "learning_rate = 0.005\n",
    "batch_size = 64\n",
    "num_epochs = 50"
   ]
  },
  {
   "cell_type": "markdown",
   "id": "e6ca959b-bc12-42be-a5df-14004565604a",
   "metadata": {},
   "source": [
    "Put your result in the following cell and note:\n",
    "\n",
    "* Provide the model as ```ffnn_reg```, the history of the training in ```ffnn_reg_history```, and the predicted quality values in ```ex_pred_ffnn```. \n",
    "* The output in the regression setting is just 1-dimensional and no activation is required. \n",
    "* Use as the MSE loss ```keras.losses.MeanSquaredError()``` and do not use the ```metrics``` argument.\n",
    "* You can use the test set for ```validation_data```. "
   ]
  },
  {
   "cell_type": "code",
   "execution_count": 35,
   "id": "28b09ee5-0623-4a09-b938-596ef992845c",
   "metadata": {
    "tags": []
   },
   "outputs": [
    {
     "name": "stdout",
     "output_type": "stream",
     "text": [
      "Epoch 1/50\n",
      "18/18 [==============================] - 0s 9ms/step - loss: 17.3084 - val_loss: 0.6507\n",
      "Epoch 2/50\n",
      "18/18 [==============================] - 0s 5ms/step - loss: 0.6783 - val_loss: 0.6384\n",
      "Epoch 3/50\n",
      "18/18 [==============================] - 0s 5ms/step - loss: 0.6341 - val_loss: 0.5898\n",
      "Epoch 4/50\n",
      "18/18 [==============================] - 0s 5ms/step - loss: 0.6149 - val_loss: 0.5527\n",
      "Epoch 5/50\n",
      "18/18 [==============================] - 0s 6ms/step - loss: 0.5946 - val_loss: 0.6049\n",
      "Epoch 6/50\n",
      "18/18 [==============================] - 0s 5ms/step - loss: 0.5648 - val_loss: 0.5109\n",
      "Epoch 7/50\n",
      "18/18 [==============================] - 0s 5ms/step - loss: 0.5551 - val_loss: 0.5547\n",
      "Epoch 8/50\n",
      "18/18 [==============================] - 0s 5ms/step - loss: 0.5414 - val_loss: 0.4864\n",
      "Epoch 9/50\n",
      "18/18 [==============================] - 0s 5ms/step - loss: 0.5218 - val_loss: 0.4878\n",
      "Epoch 10/50\n",
      "18/18 [==============================] - 0s 5ms/step - loss: 0.4996 - val_loss: 0.4796\n",
      "Epoch 11/50\n",
      "18/18 [==============================] - 0s 5ms/step - loss: 0.4966 - val_loss: 0.4754\n",
      "Epoch 12/50\n",
      "18/18 [==============================] - 0s 6ms/step - loss: 0.4806 - val_loss: 0.4774\n",
      "Epoch 13/50\n",
      "18/18 [==============================] - 0s 5ms/step - loss: 0.4737 - val_loss: 0.4592\n",
      "Epoch 14/50\n",
      "18/18 [==============================] - 0s 5ms/step - loss: 0.4678 - val_loss: 0.4589\n",
      "Epoch 15/50\n",
      "18/18 [==============================] - 0s 5ms/step - loss: 0.4623 - val_loss: 0.4516\n",
      "Epoch 16/50\n",
      "18/18 [==============================] - 0s 5ms/step - loss: 0.4580 - val_loss: 0.4459\n",
      "Epoch 17/50\n",
      "18/18 [==============================] - 0s 5ms/step - loss: 0.4597 - val_loss: 0.4725\n",
      "Epoch 18/50\n",
      "18/18 [==============================] - 0s 5ms/step - loss: 0.4566 - val_loss: 0.4398\n",
      "Epoch 19/50\n",
      "18/18 [==============================] - 0s 5ms/step - loss: 0.4521 - val_loss: 0.4499\n",
      "Epoch 20/50\n",
      "18/18 [==============================] - 0s 5ms/step - loss: 0.4472 - val_loss: 0.4411\n",
      "Epoch 21/50\n",
      "18/18 [==============================] - 0s 5ms/step - loss: 0.4493 - val_loss: 0.4379\n",
      "Epoch 22/50\n",
      "18/18 [==============================] - 0s 5ms/step - loss: 0.4452 - val_loss: 0.4435\n",
      "Epoch 23/50\n",
      "18/18 [==============================] - 0s 5ms/step - loss: 0.4521 - val_loss: 0.4311\n",
      "Epoch 24/50\n",
      "18/18 [==============================] - 0s 5ms/step - loss: 0.4452 - val_loss: 0.4323\n",
      "Epoch 25/50\n",
      "18/18 [==============================] - 0s 5ms/step - loss: 0.4374 - val_loss: 0.4297\n",
      "Epoch 26/50\n",
      "18/18 [==============================] - 0s 5ms/step - loss: 0.4407 - val_loss: 0.4349\n",
      "Epoch 27/50\n",
      "18/18 [==============================] - 0s 5ms/step - loss: 0.4442 - val_loss: 0.4442\n",
      "Epoch 28/50\n",
      "18/18 [==============================] - 0s 5ms/step - loss: 0.4392 - val_loss: 0.4277\n",
      "Epoch 29/50\n",
      "18/18 [==============================] - 0s 5ms/step - loss: 0.4327 - val_loss: 0.4261\n",
      "Epoch 30/50\n",
      "18/18 [==============================] - 0s 6ms/step - loss: 0.4319 - val_loss: 0.4344\n",
      "Epoch 31/50\n",
      "18/18 [==============================] - 0s 6ms/step - loss: 0.4332 - val_loss: 0.4253\n",
      "Epoch 32/50\n",
      "18/18 [==============================] - 0s 6ms/step - loss: 0.4410 - val_loss: 0.4347\n",
      "Epoch 33/50\n",
      "18/18 [==============================] - 0s 5ms/step - loss: 0.4311 - val_loss: 0.4235\n",
      "Epoch 34/50\n",
      "18/18 [==============================] - 0s 5ms/step - loss: 0.4352 - val_loss: 0.4255\n",
      "Epoch 35/50\n",
      "18/18 [==============================] - 0s 5ms/step - loss: 0.4308 - val_loss: 0.4209\n",
      "Epoch 36/50\n",
      "18/18 [==============================] - 0s 5ms/step - loss: 0.4306 - val_loss: 0.4194\n",
      "Epoch 37/50\n",
      "18/18 [==============================] - 0s 5ms/step - loss: 0.4286 - val_loss: 0.4356\n",
      "Epoch 38/50\n",
      "18/18 [==============================] - 0s 5ms/step - loss: 0.4275 - val_loss: 0.4181\n",
      "Epoch 39/50\n",
      "18/18 [==============================] - 0s 5ms/step - loss: 0.4250 - val_loss: 0.4380\n",
      "Epoch 40/50\n",
      "18/18 [==============================] - 0s 5ms/step - loss: 0.4274 - val_loss: 0.4373\n",
      "Epoch 41/50\n",
      "18/18 [==============================] - 0s 5ms/step - loss: 0.4255 - val_loss: 0.4215\n",
      "Epoch 42/50\n",
      "18/18 [==============================] - 0s 5ms/step - loss: 0.4221 - val_loss: 0.4426\n",
      "Epoch 43/50\n",
      "18/18 [==============================] - 0s 5ms/step - loss: 0.4222 - val_loss: 0.4576\n",
      "Epoch 44/50\n",
      "18/18 [==============================] - 0s 5ms/step - loss: 0.4263 - val_loss: 0.4337\n",
      "Epoch 45/50\n",
      "18/18 [==============================] - 0s 5ms/step - loss: 0.4211 - val_loss: 0.4273\n",
      "Epoch 46/50\n",
      "18/18 [==============================] - 0s 5ms/step - loss: 0.4182 - val_loss: 0.4171\n",
      "Epoch 47/50\n",
      "18/18 [==============================] - 0s 5ms/step - loss: 0.4186 - val_loss: 0.4359\n",
      "Epoch 48/50\n",
      "18/18 [==============================] - 0s 5ms/step - loss: 0.4184 - val_loss: 0.4232\n",
      "Epoch 49/50\n",
      "18/18 [==============================] - 0s 5ms/step - loss: 0.4229 - val_loss: 0.4288\n",
      "Epoch 50/50\n",
      "18/18 [==============================] - 0s 5ms/step - loss: 0.4174 - val_loss: 0.4273\n"
     ]
    }
   ],
   "source": [
    "ffnn_reg = keras.Sequential(\n",
    "    [\n",
    "    keras.layers.Dense(1024, activation='relu', input_shape=(11,)),\n",
    "    keras.layers.Dense(512, activation='relu'),\n",
    "    keras.layers.Dense(256, activation='relu'),\n",
    "    keras.layers.Dense(128, activation='relu'),\n",
    "    keras.layers.Dense(64, activation='relu'),\n",
    "    keras.layers.Dense(1)\n",
    "    ],\n",
    "    name='FFNN_regression')    \n",
    "\n",
    "ffnn_reg.compile(optimizer=keras.optimizers.SGD(learning_rate=learning_rate),\n",
    "                 loss=keras.losses.MeanSquaredError())\n",
    "\n",
    "ffnn_reg_history = ffnn_reg.fit(x=feat_train, y=target_train, \n",
    "                                validation_data=(feat_test, target_test), \n",
    "                                batch_size=batch_size, epochs=num_epochs)\n",
    "\n",
    "ex_pred_ffnn = ffnn_reg.predict(feat_test, verbose=0)\n",
    "\n",
    "ffnn_reg.save(f'output/MNIST_FFNN_reg.h5')"
   ]
  },
  {
   "cell_type": "markdown",
   "id": "c5c3da6b-04ee-4db9-8dc0-ce699e4f1f03",
   "metadata": {},
   "source": [
    "Try to check the accuracy and loss during training with the following plot."
   ]
  },
  {
   "cell_type": "code",
   "execution_count": 32,
   "id": "b696365f-f61a-441f-99b6-3a4d0db6b88f",
   "metadata": {},
   "outputs": [
    {
     "data": {
      "image/png": "[encoded data removed]",
      "text/plain": [
       "<Figure size 640x480 with 1 Axes>"
      ]
     },
     "metadata": {},
     "output_type": "display_data"
    }
   ],
   "source": [
    "plt.plot(ffnn_reg_history.history['loss'][1:], label='Training')\n",
    "plt.plot(ffnn_reg_history.history['val_loss'][1:], label='Test')\n",
    "plt.title('Loss')\n",
    "plt.legend()\n",
    "\n",
    "plt.show()"
   ]
  },
  {
   "cell_type": "markdown",
   "id": "ce70c65f-7976-4c5a-9518-25293b37fd5e",
   "metadata": {},
   "source": [
    "As we have done earlier, the following cell provides a \n",
    "data frame with an overview of the predictions."
   ]
  },
  {
   "cell_type": "code",
   "execution_count": null,
   "id": "24c72887-0d35-4de5-b5c7-58b1ca9750b3",
   "metadata": {},
   "outputs": [],
   "source": [
    "# Pretrained for 1000 epochs\n",
    "#ffnn_reg = keras.models.load_model('output/MNIST_FFNN_reg_pretrained.h5')\n",
    "#ex_pred_ffnn = ffnn_reg.predict(feat_test, verbose=0)"
   ]
  },
  {
   "cell_type": "code",
   "execution_count": 36,
   "id": "50a98982-6387-49bf-940a-cfa80fc8f144",
   "metadata": {},
   "outputs": [
    {
     "name": "stdout",
     "output_type": "stream",
     "text": [
      "      quality  NN_predicted_quality  NN_absolut_deviation\n",
      "912         6                  6.52                  0.52\n",
      "772         5                  5.09                  0.09\n",
      "1037        5                  4.91                  0.09\n",
      "1106        6                  6.60                  0.60\n",
      "263         5                  5.51                  0.51\n",
      "...       ...                   ...                   ...\n",
      "1466        7                  5.61                  1.39\n",
      "580         5                  5.44                  0.44\n",
      "1082        6                  5.47                  0.53\n",
      "1279        7                  6.35                  0.65\n",
      "1155        5                  5.34                  0.34\n",
      "\n",
      "[480 rows x 3 columns]\n",
      "\n",
      "Mean squared error of Feedforward Neural Network regression: 0.43\n"
     ]
    }
   ],
   "source": [
    "target_test['NN_predicted_quality'] = np.around(ex_pred_ffnn, decimals=2)\n",
    "target_test['NN_absolut_deviation'] = np.around(abs(target_test['quality'] - target_test['NN_predicted_quality']), decimals=2)\n",
    "print(target_test)\n",
    "\n",
    "NN_pred_MSE = (target_test['NN_absolut_deviation']**2).mean()\n",
    "print(f\"\\nMean squared error of Feedforward Neural Network regression: {NN_pred_MSE:.2f}\")"
   ]
  },
  {
   "cell_type": "markdown",
   "id": "9b3a5bf5-39d9-408c-b557-19999dad1dfc",
   "metadata": {
    "tags": []
   },
   "source": [
    "***\n",
    "\n",
    "## Proposed Solutions\n",
    "\n",
    "For a final time, we consider the red wine dataset with our new regression method.\n",
    "As before, we want to predict the ```quality``` values on the test set ```feat_test``` \n",
    "and compare it to the previous results:\n",
    "\n",
    "* ridge regression MSE 0.42 \n",
    "* Random Forest regression MSE 0.34\n",
    "* kernel ridge regression MSE 0.38 \n",
    "* Gaussian Process regression MSE 0.38\n",
    "\n",
    "Prepare the data by load the following cell:"
   ]
  },
  {
   "cell_type": "code",
   "execution_count": 15,
   "id": "138db32d-98b5-417f-a9de-71100c458fa5",
   "metadata": {
    "tags": []
   },
   "outputs": [],
   "source": [
    "import numpy as np\n",
    "import pandas as pd\n",
    "import matplotlib.pyplot as plt\n",
    "\n",
    "from sklearn.model_selection import train_test_split\n",
    "\n",
    "from tensorflow import keras\n",
    "\n",
    "np.random.seed(123)\n",
    "keras.utils.set_random_seed(123)\n",
    "\n",
    "wine_data = pd.read_csv('data/winequality-red.csv', sep=';')\n",
    "\n",
    "ex_target = wine_data['quality']\n",
    "ex_features = wine_data.drop(['quality'], axis=1)\n",
    "\n",
    "ex_features = (ex_features - ex_features.min()) / (ex_features.max() - ex_features.min())  \n",
    "\n",
    "feat_train, feat_test, target_train, target_test = train_test_split(\n",
    "    ex_features, ex_target, test_size = 0.3, random_state=123)\n",
    "\n",
    "target_test = target_test.to_frame()"
   ]
  },
  {
   "cell_type": "markdown",
   "id": "4e1c5b36-f3b1-49d1-91e1-4416d99a3a1d",
   "metadata": {
    "tags": []
   },
   "source": [
    "(1.) Implement a feed-forward neural network with the following number \n",
    "of artificial neurons in the hidden layers: 1024, 512, 256, 128, 64. Use\n",
    "ReLU activations and the following hyperparameters:"
   ]
  },
  {
   "cell_type": "code",
   "execution_count": 16,
   "id": "dcd1c2b9-ec51-4da4-a810-67f0284dc406",
   "metadata": {
    "tags": []
   },
   "outputs": [],
   "source": [
    "learning_rate = 0.005\n",
    "batch_size = 64\n",
    "num_epochs = 50"
   ]
  },
  {
   "cell_type": "markdown",
   "id": "95c36e97-6a1c-4365-91a0-1c83156635f5",
   "metadata": {},
   "source": [
    "Put your result in the following cell and note:\n",
    "\n",
    "* Provide the model as ```ffnn_reg```, the history of the training in ```ffnn_reg_history```, and the predicted quality values in ```ex_pred_ffnn```. \n",
    "* The output in the regression setting is just 1-dimensional and no activation is required. \n",
    "* Use as the MSE loss ```keras.losses.MeanSquaredError()``` and do not use the ```metrics``` argument.\n",
    "* You can use the test set for ```validation_data```. "
   ]
  },
  {
   "cell_type": "code",
   "execution_count": 17,
   "id": "4efff2b3-976c-4a16-8aae-945f6f1bfebd",
   "metadata": {
    "tags": []
   },
   "outputs": [
    {
     "name": "stdout",
     "output_type": "stream",
     "text": [
      "Epoch 1/50\n",
      "18/18 [==============================] - 0s 8ms/step - loss: 17.3084 - val_loss: 0.6507\n",
      "Epoch 2/50\n",
      "18/18 [==============================] - 0s 5ms/step - loss: 0.6783 - val_loss: 0.6384\n",
      "Epoch 3/50\n",
      "18/18 [==============================] - 0s 5ms/step - loss: 0.6341 - val_loss: 0.5898\n",
      "Epoch 4/50\n",
      "18/18 [==============================] - 0s 5ms/step - loss: 0.6149 - val_loss: 0.5527\n",
      "Epoch 5/50\n",
      "18/18 [==============================] - 0s 5ms/step - loss: 0.5946 - val_loss: 0.6049\n",
      "Epoch 6/50\n",
      "18/18 [==============================] - 0s 4ms/step - loss: 0.5648 - val_loss: 0.5109\n",
      "Epoch 7/50\n",
      "18/18 [==============================] - 0s 5ms/step - loss: 0.5551 - val_loss: 0.5547\n",
      "Epoch 8/50\n",
      "18/18 [==============================] - 0s 5ms/step - loss: 0.5414 - val_loss: 0.4864\n",
      "Epoch 9/50\n",
      "18/18 [==============================] - 0s 5ms/step - loss: 0.5218 - val_loss: 0.4878\n",
      "Epoch 10/50\n",
      "18/18 [==============================] - 0s 5ms/step - loss: 0.4996 - val_loss: 0.4796\n",
      "Epoch 11/50\n",
      "18/18 [==============================] - 0s 5ms/step - loss: 0.4966 - val_loss: 0.4754\n",
      "Epoch 12/50\n",
      "18/18 [==============================] - 0s 5ms/step - loss: 0.4806 - val_loss: 0.4774\n",
      "Epoch 13/50\n",
      "18/18 [==============================] - 0s 4ms/step - loss: 0.4737 - val_loss: 0.4592\n",
      "Epoch 14/50\n",
      "18/18 [==============================] - 0s 4ms/step - loss: 0.4678 - val_loss: 0.4589\n",
      "Epoch 15/50\n",
      "18/18 [==============================] - 0s 5ms/step - loss: 0.4623 - val_loss: 0.4516\n",
      "Epoch 16/50\n",
      "18/18 [==============================] - 0s 5ms/step - loss: 0.4580 - val_loss: 0.4459\n",
      "Epoch 17/50\n",
      "18/18 [==============================] - 0s 5ms/step - loss: 0.4597 - val_loss: 0.4725\n",
      "Epoch 18/50\n",
      "18/18 [==============================] - 0s 4ms/step - loss: 0.4566 - val_loss: 0.4398\n",
      "Epoch 19/50\n",
      "18/18 [==============================] - 0s 4ms/step - loss: 0.4521 - val_loss: 0.4499\n",
      "Epoch 20/50\n",
      "18/18 [==============================] - 0s 5ms/step - loss: 0.4472 - val_loss: 0.4411\n",
      "Epoch 21/50\n",
      "18/18 [==============================] - 0s 5ms/step - loss: 0.4493 - val_loss: 0.4379\n",
      "Epoch 22/50\n",
      "18/18 [==============================] - 0s 4ms/step - loss: 0.4452 - val_loss: 0.4435\n",
      "Epoch 23/50\n",
      "18/18 [==============================] - 0s 4ms/step - loss: 0.4521 - val_loss: 0.4311\n",
      "Epoch 24/50\n",
      "18/18 [==============================] - 0s 4ms/step - loss: 0.4452 - val_loss: 0.4323\n",
      "Epoch 25/50\n",
      "18/18 [==============================] - 0s 4ms/step - loss: 0.4374 - val_loss: 0.4297\n",
      "Epoch 26/50\n",
      "18/18 [==============================] - 0s 4ms/step - loss: 0.4407 - val_loss: 0.4349\n",
      "Epoch 27/50\n",
      "18/18 [==============================] - 0s 4ms/step - loss: 0.4442 - val_loss: 0.4442\n",
      "Epoch 28/50\n",
      "18/18 [==============================] - 0s 4ms/step - loss: 0.4392 - val_loss: 0.4277\n",
      "Epoch 29/50\n",
      "18/18 [==============================] - 0s 4ms/step - loss: 0.4327 - val_loss: 0.4261\n",
      "Epoch 30/50\n",
      "18/18 [==============================] - 0s 4ms/step - loss: 0.4319 - val_loss: 0.4344\n",
      "Epoch 31/50\n",
      "18/18 [==============================] - 0s 4ms/step - loss: 0.4332 - val_loss: 0.4253\n",
      "Epoch 32/50\n",
      "18/18 [==============================] - 0s 4ms/step - loss: 0.4410 - val_loss: 0.4347\n",
      "Epoch 33/50\n",
      "18/18 [==============================] - 0s 4ms/step - loss: 0.4311 - val_loss: 0.4235\n",
      "Epoch 34/50\n",
      "18/18 [==============================] - 0s 4ms/step - loss: 0.4352 - val_loss: 0.4255\n",
      "Epoch 35/50\n",
      "18/18 [==============================] - 0s 4ms/step - loss: 0.4308 - val_loss: 0.4209\n",
      "Epoch 36/50\n",
      "18/18 [==============================] - 0s 5ms/step - loss: 0.4306 - val_loss: 0.4194\n",
      "Epoch 37/50\n",
      "18/18 [==============================] - 0s 5ms/step - loss: 0.4286 - val_loss: 0.4356\n",
      "Epoch 38/50\n",
      "18/18 [==============================] - 0s 5ms/step - loss: 0.4275 - val_loss: 0.4181\n",
      "Epoch 39/50\n",
      "18/18 [==============================] - 0s 4ms/step - loss: 0.4250 - val_loss: 0.4380\n",
      "Epoch 40/50\n",
      "18/18 [==============================] - 0s 4ms/step - loss: 0.4274 - val_loss: 0.4373\n",
      "Epoch 41/50\n",
      "18/18 [==============================] - 0s 5ms/step - loss: 0.4255 - val_loss: 0.4215\n",
      "Epoch 42/50\n",
      "18/18 [==============================] - 0s 5ms/step - loss: 0.4221 - val_loss: 0.4426\n",
      "Epoch 43/50\n",
      "18/18 [==============================] - 0s 5ms/step - loss: 0.4222 - val_loss: 0.4576\n",
      "Epoch 44/50\n",
      "18/18 [==============================] - 0s 5ms/step - loss: 0.4263 - val_loss: 0.4337\n",
      "Epoch 45/50\n",
      "18/18 [==============================] - 0s 4ms/step - loss: 0.4211 - val_loss: 0.4273\n",
      "Epoch 46/50\n",
      "18/18 [==============================] - 0s 4ms/step - loss: 0.4182 - val_loss: 0.4171\n",
      "Epoch 47/50\n",
      "18/18 [==============================] - 0s 5ms/step - loss: 0.4186 - val_loss: 0.4359\n",
      "Epoch 48/50\n",
      "18/18 [==============================] - 0s 5ms/step - loss: 0.4184 - val_loss: 0.4232\n",
      "Epoch 49/50\n",
      "18/18 [==============================] - 0s 5ms/step - loss: 0.4229 - val_loss: 0.4288\n",
      "Epoch 50/50\n",
      "18/18 [==============================] - 0s 4ms/step - loss: 0.4174 - val_loss: 0.4273\n"
     ]
    }
   ],
   "source": [
    "ffnn_reg = keras.Sequential(\n",
    "    [\n",
    "    keras.layers.Dense(1024, activation='relu', input_shape=(11,)),\n",
    "    keras.layers.Dense(512, activation='relu'),\n",
    "    keras.layers.Dense(256, activation='relu'),\n",
    "    keras.layers.Dense(128, activation='relu'),\n",
    "    keras.layers.Dense(64, activation='relu'),\n",
    "    keras.layers.Dense(1)\n",
    "    ],\n",
    "    name='FFNN_regression')    \n",
    "\n",
    "ffnn_reg.compile(optimizer=keras.optimizers.SGD(learning_rate=learning_rate),\n",
    "                 loss=keras.losses.MeanSquaredError())\n",
    "\n",
    "ffnn_reg_history = ffnn_reg.fit(x=feat_train, y=target_train, \n",
    "                                validation_data=(feat_test, target_test), \n",
    "                                batch_size=batch_size, epochs=num_epochs)\n",
    "\n",
    "ex_pred_ffnn = ffnn_reg.predict(feat_test, verbose=0)\n",
    "\n",
    "ffnn_reg.save(f'output/MNIST_FFNN_reg.h5')"
   ]
  },
  {
   "cell_type": "markdown",
   "id": "96adb94e-98cc-4e2b-9192-3ec474ffb304",
   "metadata": {},
   "source": [
    "Try to check the accuracy and loss during training with the following plot."
   ]
  },
  {
   "cell_type": "code",
   "execution_count": 18,
   "id": "0194f5ce-5507-4712-8869-bf21c3633d35",
   "metadata": {},
   "outputs": [
    {
     "data": {
      "image/png": "[encoded data removed]",
      "text/plain": [
       "<Figure size 640x480 with 1 Axes>"
      ]
     },
     "metadata": {},
     "output_type": "display_data"
    }
   ],
   "source": [
    "plt.plot(ffnn_reg_history.history['loss'][1:], label='Training')\n",
    "plt.plot(ffnn_reg_history.history['val_loss'][1:], label='Test')\n",
    "plt.title('Loss')\n",
    "plt.legend()\n",
    "\n",
    "plt.show()"
   ]
  },
  {
   "cell_type": "markdown",
   "id": "353f777d-6b6f-4405-8bb5-eaf1fbfae21c",
   "metadata": {},
   "source": [
    "As we have done earlier, the following cell provides a \n",
    "data frame with an overview of the predictions."
   ]
  },
  {
   "cell_type": "code",
   "execution_count": 37,
   "id": "38ffeed0-f582-43ea-b427-92964edf1e6d",
   "metadata": {},
   "outputs": [],
   "source": [
    "# Pretrained for 1000 epochs\n",
    "ffnn_reg = keras.models.load_model('output/MNIST_FFNN_reg_pretrained.h5')\n",
    "ex_pred_ffnn = ffnn_reg.predict(feat_test, verbose=0)"
   ]
  },
  {
   "cell_type": "code",
   "execution_count": 38,
   "id": "9bcb281f-b8b2-4840-9afc-741af7808548",
   "metadata": {},
   "outputs": [
    {
     "name": "stdout",
     "output_type": "stream",
     "text": [
      "      quality  NN_predicted_quality  NN_absolut_deviation\n",
      "912         6                  6.49                  0.49\n",
      "772         5                  4.94                  0.06\n",
      "1037        5                  4.74                  0.26\n",
      "1106        6                  6.59                  0.59\n",
      "263         5                  5.40                  0.40\n",
      "...       ...                   ...                   ...\n",
      "1466        7                  5.59                  1.41\n",
      "580         5                  4.69                  0.31\n",
      "1082        6                  5.28                  0.72\n",
      "1279        7                  6.29                  0.71\n",
      "1155        5                  5.19                  0.19\n",
      "\n",
      "[480 rows x 3 columns]\n",
      "\n",
      "Mean squared error of Feedforward Neural Network regression: 0.37\n"
     ]
    }
   ],
   "source": [
    "target_test['NN_predicted_quality'] = np.around(ex_pred_ffnn, decimals=2)\n",
    "target_test['NN_absolut_deviation'] = np.around(abs(target_test['quality'] - target_test['NN_predicted_quality']), decimals=2)\n",
    "print(target_test)\n",
    "\n",
    "NN_pred_MSE = (target_test['NN_absolut_deviation']**2).mean()\n",
    "print(f\"\\nMean squared error of Feedforward Neural Network regression: {NN_pred_MSE:.2f}\")"
   ]
  },
  {
   "cell_type": "code",
   "execution_count": null,
   "id": "8d220a31-89e2-4d9b-b722-33d01ba9d038",
   "metadata": {},
   "outputs": [],
   "source": []
  }
 ],
 "metadata": {
  "kernelspec": {
   "display_name": "Python 3 (ipykernel)",
   "language": "python",
   "name": "python3"
  },
  "language_info": {
   "codemirror_mode": {
    "name": "ipython",
    "version": 3
   },
   "file_extension": ".py",
   "mimetype": "text/x-python",
   "name": "python",
   "nbconvert_exporter": "python",
   "pygments_lexer": "ipython3",
   "version": "3.11.5"
  }
 },
 "nbformat": 4,
 "nbformat_minor": 5
}
